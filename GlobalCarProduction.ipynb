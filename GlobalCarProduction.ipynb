{
  "nbformat": 4,
  "nbformat_minor": 0,
  "metadata": {
    "colab": {
      "name": "GlobalCarProduction.ipynb",
      "provenance": [],
      "collapsed_sections": [],
      "include_colab_link": true
    },
    "kernelspec": {
      "name": "python3",
      "display_name": "Python 3"
    },
    "language_info": {
      "name": "python"
    }
  },
  "cells": [
    {
      "cell_type": "markdown",
      "metadata": {
        "id": "view-in-github",
        "colab_type": "text"
      },
      "source": [
        "<a href=\"https://colab.research.google.com/github/AbdulHafidh-AI/ALPHANCODERS_Hospital-Management-Time/blob/main/GlobalCarProduction.ipynb\" target=\"_parent\"><img src=\"https://colab.research.google.com/assets/colab-badge.svg\" alt=\"Open In Colab\"/></a>"
      ]
    },
    {
      "cell_type": "markdown",
      "source": [
        "### JUDUL: GLOBAL CAR PRODUCTION\n"
      ],
      "metadata": {
        "id": "E6W9fGtdPP5R"
      }
    },
    {
      "cell_type": "markdown",
      "source": [
        "### Anggota Kelompok\n",
        " <li><em>Abdul Hafidh</em>  (2008107010056)</li>\n",
        "  <li><em>Amar Suhendra</em> (2008107010091)</li>\n",
        "  <li><em>Daffa Mudhaffar</em> (2008107010013</li>"
      ],
      "metadata": {
        "id": "pV2Lc1fqPfQv"
      }
    },
    {
      "cell_type": "code",
      "source": [
        "import pandas as pd\n",
        "import numpy as np\n",
        "import matplotlib as mpl\n",
        "import matplotlib.pyplot as plt"
      ],
      "metadata": {
        "id": "h9EB5ng8Pec5"
      },
      "execution_count": null,
      "outputs": []
    },
    {
      "cell_type": "code",
      "source": [
        "sample = pd.read_csv(\"https://raw.githubusercontent.com/AbdulHafidh-AI/ProyekVisdat/main/Global%20Car%20Production%201950-2019.csv\");"
      ],
      "metadata": {
        "id": "iR0DY7l9Py49"
      },
      "execution_count": null,
      "outputs": []
    },
    {
      "cell_type": "markdown",
      "source": [
        "### 1. EXPLORATORY DATA ANALYSIS"
      ],
      "metadata": {
        "id": "_NAVFJhNcYCe"
      }
    },
    {
      "cell_type": "markdown",
      "source": [
        "Melihat data 5 teratas"
      ],
      "metadata": {
        "id": "8sR1RmuACApV"
      }
    },
    {
      "cell_type": "code",
      "source": [
        "sample.head()"
      ],
      "metadata": {
        "colab": {
          "base_uri": "https://localhost:8080/",
          "height": 236
        },
        "id": "whxlZPKWcT-E",
        "outputId": "96380b14-51b1-43d5-82b6-1417fb374f99"
      },
      "execution_count": null,
      "outputs": [
        {
          "output_type": "execute_result",
          "data": {
            "text/plain": [
              "   Country       1950       1955       1960       1965       1970       1975  \\\n",
              "0    China          0          0     22,574      54,87     87,166    154,727   \n",
              "1      USA  8,005,859  7,955,489  7,905,119  8,094,534  8,283,949  8,146,895   \n",
              "2    Japan     31,597    256,574    481,551  2,885,354  5,289,157  8,166,021   \n",
              "3    India     14,688     32,912     51,136     63,773     76,409     95,163   \n",
              "4  Germany    306,064  1,181,107  2,056,149  2,949,198  3,842,247  3,860,400   \n",
              "\n",
              "         1980        1985        1990  ...        2011        2012  \\\n",
              "0     222,288     365,765     509,242  ...  18,418,876  19,271,808   \n",
              "1   8,009,841   8,896,419   9,782,997  ...   8,661,535  10,335,765   \n",
              "2  11,042,884  12,264,840  13,486,796  ...   8,398,630   9,943,077   \n",
              "3     113,917     238,286     362,655  ...   3,927,411   4,174,713   \n",
              "4   3,878,553   4,427,553   4,976,552  ...   6,146,948   5,649,260   \n",
              "\n",
              "         2013        2014        2015        2016        2017        2018  \\\n",
              "0  22,116,825  23,722,890  24,503,326  28,118,794  29,015,434  27,809,196   \n",
              "1  11,066,432  11,660,699  12,100,095  12,198,137  11,189,985  11,314,705   \n",
              "2   9,630,181   9,774,558   9,278,321   9,204,590   9,693,746   9,728,528   \n",
              "3   3,898,425   3,840,160   4,160,585   4,519,341   4,782,896   5,174,645   \n",
              "4   5,718,222   5,907,548   6,033,164   5,746,808   5,645,581   5,120,409   \n",
              "\n",
              "         2019 Unnamed: 32  \n",
              "0  25,720,665         NaN  \n",
              "1  10,880,019         NaN  \n",
              "2   9,684,298         NaN  \n",
              "3   4,516,017         NaN  \n",
              "4   4,661,328         NaN  \n",
              "\n",
              "[5 rows x 33 columns]"
            ],
            "text/html": [
              "\n",
              "  <div id=\"df-2fe32b41-3423-401b-86d9-b92fc51db77a\">\n",
              "    <div class=\"colab-df-container\">\n",
              "      <div>\n",
              "<style scoped>\n",
              "    .dataframe tbody tr th:only-of-type {\n",
              "        vertical-align: middle;\n",
              "    }\n",
              "\n",
              "    .dataframe tbody tr th {\n",
              "        vertical-align: top;\n",
              "    }\n",
              "\n",
              "    .dataframe thead th {\n",
              "        text-align: right;\n",
              "    }\n",
              "</style>\n",
              "<table border=\"1\" class=\"dataframe\">\n",
              "  <thead>\n",
              "    <tr style=\"text-align: right;\">\n",
              "      <th></th>\n",
              "      <th>Country</th>\n",
              "      <th>1950</th>\n",
              "      <th>1955</th>\n",
              "      <th>1960</th>\n",
              "      <th>1965</th>\n",
              "      <th>1970</th>\n",
              "      <th>1975</th>\n",
              "      <th>1980</th>\n",
              "      <th>1985</th>\n",
              "      <th>1990</th>\n",
              "      <th>...</th>\n",
              "      <th>2011</th>\n",
              "      <th>2012</th>\n",
              "      <th>2013</th>\n",
              "      <th>2014</th>\n",
              "      <th>2015</th>\n",
              "      <th>2016</th>\n",
              "      <th>2017</th>\n",
              "      <th>2018</th>\n",
              "      <th>2019</th>\n",
              "      <th>Unnamed: 32</th>\n",
              "    </tr>\n",
              "  </thead>\n",
              "  <tbody>\n",
              "    <tr>\n",
              "      <th>0</th>\n",
              "      <td>China</td>\n",
              "      <td>0</td>\n",
              "      <td>0</td>\n",
              "      <td>22,574</td>\n",
              "      <td>54,87</td>\n",
              "      <td>87,166</td>\n",
              "      <td>154,727</td>\n",
              "      <td>222,288</td>\n",
              "      <td>365,765</td>\n",
              "      <td>509,242</td>\n",
              "      <td>...</td>\n",
              "      <td>18,418,876</td>\n",
              "      <td>19,271,808</td>\n",
              "      <td>22,116,825</td>\n",
              "      <td>23,722,890</td>\n",
              "      <td>24,503,326</td>\n",
              "      <td>28,118,794</td>\n",
              "      <td>29,015,434</td>\n",
              "      <td>27,809,196</td>\n",
              "      <td>25,720,665</td>\n",
              "      <td>NaN</td>\n",
              "    </tr>\n",
              "    <tr>\n",
              "      <th>1</th>\n",
              "      <td>USA</td>\n",
              "      <td>8,005,859</td>\n",
              "      <td>7,955,489</td>\n",
              "      <td>7,905,119</td>\n",
              "      <td>8,094,534</td>\n",
              "      <td>8,283,949</td>\n",
              "      <td>8,146,895</td>\n",
              "      <td>8,009,841</td>\n",
              "      <td>8,896,419</td>\n",
              "      <td>9,782,997</td>\n",
              "      <td>...</td>\n",
              "      <td>8,661,535</td>\n",
              "      <td>10,335,765</td>\n",
              "      <td>11,066,432</td>\n",
              "      <td>11,660,699</td>\n",
              "      <td>12,100,095</td>\n",
              "      <td>12,198,137</td>\n",
              "      <td>11,189,985</td>\n",
              "      <td>11,314,705</td>\n",
              "      <td>10,880,019</td>\n",
              "      <td>NaN</td>\n",
              "    </tr>\n",
              "    <tr>\n",
              "      <th>2</th>\n",
              "      <td>Japan</td>\n",
              "      <td>31,597</td>\n",
              "      <td>256,574</td>\n",
              "      <td>481,551</td>\n",
              "      <td>2,885,354</td>\n",
              "      <td>5,289,157</td>\n",
              "      <td>8,166,021</td>\n",
              "      <td>11,042,884</td>\n",
              "      <td>12,264,840</td>\n",
              "      <td>13,486,796</td>\n",
              "      <td>...</td>\n",
              "      <td>8,398,630</td>\n",
              "      <td>9,943,077</td>\n",
              "      <td>9,630,181</td>\n",
              "      <td>9,774,558</td>\n",
              "      <td>9,278,321</td>\n",
              "      <td>9,204,590</td>\n",
              "      <td>9,693,746</td>\n",
              "      <td>9,728,528</td>\n",
              "      <td>9,684,298</td>\n",
              "      <td>NaN</td>\n",
              "    </tr>\n",
              "    <tr>\n",
              "      <th>3</th>\n",
              "      <td>India</td>\n",
              "      <td>14,688</td>\n",
              "      <td>32,912</td>\n",
              "      <td>51,136</td>\n",
              "      <td>63,773</td>\n",
              "      <td>76,409</td>\n",
              "      <td>95,163</td>\n",
              "      <td>113,917</td>\n",
              "      <td>238,286</td>\n",
              "      <td>362,655</td>\n",
              "      <td>...</td>\n",
              "      <td>3,927,411</td>\n",
              "      <td>4,174,713</td>\n",
              "      <td>3,898,425</td>\n",
              "      <td>3,840,160</td>\n",
              "      <td>4,160,585</td>\n",
              "      <td>4,519,341</td>\n",
              "      <td>4,782,896</td>\n",
              "      <td>5,174,645</td>\n",
              "      <td>4,516,017</td>\n",
              "      <td>NaN</td>\n",
              "    </tr>\n",
              "    <tr>\n",
              "      <th>4</th>\n",
              "      <td>Germany</td>\n",
              "      <td>306,064</td>\n",
              "      <td>1,181,107</td>\n",
              "      <td>2,056,149</td>\n",
              "      <td>2,949,198</td>\n",
              "      <td>3,842,247</td>\n",
              "      <td>3,860,400</td>\n",
              "      <td>3,878,553</td>\n",
              "      <td>4,427,553</td>\n",
              "      <td>4,976,552</td>\n",
              "      <td>...</td>\n",
              "      <td>6,146,948</td>\n",
              "      <td>5,649,260</td>\n",
              "      <td>5,718,222</td>\n",
              "      <td>5,907,548</td>\n",
              "      <td>6,033,164</td>\n",
              "      <td>5,746,808</td>\n",
              "      <td>5,645,581</td>\n",
              "      <td>5,120,409</td>\n",
              "      <td>4,661,328</td>\n",
              "      <td>NaN</td>\n",
              "    </tr>\n",
              "  </tbody>\n",
              "</table>\n",
              "<p>5 rows × 33 columns</p>\n",
              "</div>\n",
              "      <button class=\"colab-df-convert\" onclick=\"convertToInteractive('df-2fe32b41-3423-401b-86d9-b92fc51db77a')\"\n",
              "              title=\"Convert this dataframe to an interactive table.\"\n",
              "              style=\"display:none;\">\n",
              "        \n",
              "  <svg xmlns=\"http://www.w3.org/2000/svg\" height=\"24px\"viewBox=\"0 0 24 24\"\n",
              "       width=\"24px\">\n",
              "    <path d=\"M0 0h24v24H0V0z\" fill=\"none\"/>\n",
              "    <path d=\"M18.56 5.44l.94 2.06.94-2.06 2.06-.94-2.06-.94-.94-2.06-.94 2.06-2.06.94zm-11 1L8.5 8.5l.94-2.06 2.06-.94-2.06-.94L8.5 2.5l-.94 2.06-2.06.94zm10 10l.94 2.06.94-2.06 2.06-.94-2.06-.94-.94-2.06-.94 2.06-2.06.94z\"/><path d=\"M17.41 7.96l-1.37-1.37c-.4-.4-.92-.59-1.43-.59-.52 0-1.04.2-1.43.59L10.3 9.45l-7.72 7.72c-.78.78-.78 2.05 0 2.83L4 21.41c.39.39.9.59 1.41.59.51 0 1.02-.2 1.41-.59l7.78-7.78 2.81-2.81c.8-.78.8-2.07 0-2.86zM5.41 20L4 18.59l7.72-7.72 1.47 1.35L5.41 20z\"/>\n",
              "  </svg>\n",
              "      </button>\n",
              "      \n",
              "  <style>\n",
              "    .colab-df-container {\n",
              "      display:flex;\n",
              "      flex-wrap:wrap;\n",
              "      gap: 12px;\n",
              "    }\n",
              "\n",
              "    .colab-df-convert {\n",
              "      background-color: #E8F0FE;\n",
              "      border: none;\n",
              "      border-radius: 50%;\n",
              "      cursor: pointer;\n",
              "      display: none;\n",
              "      fill: #1967D2;\n",
              "      height: 32px;\n",
              "      padding: 0 0 0 0;\n",
              "      width: 32px;\n",
              "    }\n",
              "\n",
              "    .colab-df-convert:hover {\n",
              "      background-color: #E2EBFA;\n",
              "      box-shadow: 0px 1px 2px rgba(60, 64, 67, 0.3), 0px 1px 3px 1px rgba(60, 64, 67, 0.15);\n",
              "      fill: #174EA6;\n",
              "    }\n",
              "\n",
              "    [theme=dark] .colab-df-convert {\n",
              "      background-color: #3B4455;\n",
              "      fill: #D2E3FC;\n",
              "    }\n",
              "\n",
              "    [theme=dark] .colab-df-convert:hover {\n",
              "      background-color: #434B5C;\n",
              "      box-shadow: 0px 1px 3px 1px rgba(0, 0, 0, 0.15);\n",
              "      filter: drop-shadow(0px 1px 2px rgba(0, 0, 0, 0.3));\n",
              "      fill: #FFFFFF;\n",
              "    }\n",
              "  </style>\n",
              "\n",
              "      <script>\n",
              "        const buttonEl =\n",
              "          document.querySelector('#df-2fe32b41-3423-401b-86d9-b92fc51db77a button.colab-df-convert');\n",
              "        buttonEl.style.display =\n",
              "          google.colab.kernel.accessAllowed ? 'block' : 'none';\n",
              "\n",
              "        async function convertToInteractive(key) {\n",
              "          const element = document.querySelector('#df-2fe32b41-3423-401b-86d9-b92fc51db77a');\n",
              "          const dataTable =\n",
              "            await google.colab.kernel.invokeFunction('convertToInteractive',\n",
              "                                                     [key], {});\n",
              "          if (!dataTable) return;\n",
              "\n",
              "          const docLinkHtml = 'Like what you see? Visit the ' +\n",
              "            '<a target=\"_blank\" href=https://colab.research.google.com/notebooks/data_table.ipynb>data table notebook</a>'\n",
              "            + ' to learn more about interactive tables.';\n",
              "          element.innerHTML = '';\n",
              "          dataTable['output_type'] = 'display_data';\n",
              "          await google.colab.output.renderOutput(dataTable, element);\n",
              "          const docLink = document.createElement('div');\n",
              "          docLink.innerHTML = docLinkHtml;\n",
              "          element.appendChild(docLink);\n",
              "        }\n",
              "      </script>\n",
              "    </div>\n",
              "  </div>\n",
              "  "
            ]
          },
          "metadata": {},
          "execution_count": 64
        }
      ]
    },
    {
      "cell_type": "markdown",
      "source": [
        "Melihat data  5 terbawah"
      ],
      "metadata": {
        "id": "jZNapKWxcQPN"
      }
    },
    {
      "cell_type": "code",
      "source": [
        "sample.tail()"
      ],
      "metadata": {
        "colab": {
          "base_uri": "https://localhost:8080/",
          "height": 236
        },
        "id": "P3qv2y5acV3s",
        "outputId": "e2ec1de2-467b-4378-df68-45758bbbef01"
      },
      "execution_count": null,
      "outputs": [
        {
          "output_type": "execute_result",
          "data": {
            "text/plain": [
              "        Country 1950  1955 1960 1965 1970 1975 1980   1985 1990  ...     2011  \\\n",
              "34      Finland    0     0    0    0    0    0    0      0    0  ...     2,54   \n",
              "35  Philippines    0     0    0    0    0    0    0      0    0  ...   53,921   \n",
              "36        Egypt    0     0    0    0    0    0    0      0    0  ...   81,731   \n",
              "37       Serbia    0     0    0    0    0    0    0      0    0  ...   11,023   \n",
              "38       Sweden   28  78,5  129  220  311  314  317  330,5  344  ...  188,969   \n",
              "\n",
              "       2012     2013     2014     2015     2016     2017     2018 2019  \\\n",
              "34      2,9    7,703   45,035   69,053    55,28   91,598  112,104    0   \n",
              "35    55,36    52,26  106,938  112,493  116,686  141,251   79,763    0   \n",
              "36    56,48    39,05   42,515       36    36,23    36,64     71,6    0   \n",
              "37   11,032  113,878   103,15    83,63    80,32   79,912   56,449    0   \n",
              "38  162,814   161,08  154,173  188,987  205,374      226      291  279   \n",
              "\n",
              "   Unnamed: 32  \n",
              "34         NaN  \n",
              "35         NaN  \n",
              "36         NaN  \n",
              "37         NaN  \n",
              "38         NaN  \n",
              "\n",
              "[5 rows x 33 columns]"
            ],
            "text/html": [
              "\n",
              "  <div id=\"df-a801ece1-77a9-4709-8d7b-6b2a7fdf2e87\">\n",
              "    <div class=\"colab-df-container\">\n",
              "      <div>\n",
              "<style scoped>\n",
              "    .dataframe tbody tr th:only-of-type {\n",
              "        vertical-align: middle;\n",
              "    }\n",
              "\n",
              "    .dataframe tbody tr th {\n",
              "        vertical-align: top;\n",
              "    }\n",
              "\n",
              "    .dataframe thead th {\n",
              "        text-align: right;\n",
              "    }\n",
              "</style>\n",
              "<table border=\"1\" class=\"dataframe\">\n",
              "  <thead>\n",
              "    <tr style=\"text-align: right;\">\n",
              "      <th></th>\n",
              "      <th>Country</th>\n",
              "      <th>1950</th>\n",
              "      <th>1955</th>\n",
              "      <th>1960</th>\n",
              "      <th>1965</th>\n",
              "      <th>1970</th>\n",
              "      <th>1975</th>\n",
              "      <th>1980</th>\n",
              "      <th>1985</th>\n",
              "      <th>1990</th>\n",
              "      <th>...</th>\n",
              "      <th>2011</th>\n",
              "      <th>2012</th>\n",
              "      <th>2013</th>\n",
              "      <th>2014</th>\n",
              "      <th>2015</th>\n",
              "      <th>2016</th>\n",
              "      <th>2017</th>\n",
              "      <th>2018</th>\n",
              "      <th>2019</th>\n",
              "      <th>Unnamed: 32</th>\n",
              "    </tr>\n",
              "  </thead>\n",
              "  <tbody>\n",
              "    <tr>\n",
              "      <th>34</th>\n",
              "      <td>Finland</td>\n",
              "      <td>0</td>\n",
              "      <td>0</td>\n",
              "      <td>0</td>\n",
              "      <td>0</td>\n",
              "      <td>0</td>\n",
              "      <td>0</td>\n",
              "      <td>0</td>\n",
              "      <td>0</td>\n",
              "      <td>0</td>\n",
              "      <td>...</td>\n",
              "      <td>2,54</td>\n",
              "      <td>2,9</td>\n",
              "      <td>7,703</td>\n",
              "      <td>45,035</td>\n",
              "      <td>69,053</td>\n",
              "      <td>55,28</td>\n",
              "      <td>91,598</td>\n",
              "      <td>112,104</td>\n",
              "      <td>0</td>\n",
              "      <td>NaN</td>\n",
              "    </tr>\n",
              "    <tr>\n",
              "      <th>35</th>\n",
              "      <td>Philippines</td>\n",
              "      <td>0</td>\n",
              "      <td>0</td>\n",
              "      <td>0</td>\n",
              "      <td>0</td>\n",
              "      <td>0</td>\n",
              "      <td>0</td>\n",
              "      <td>0</td>\n",
              "      <td>0</td>\n",
              "      <td>0</td>\n",
              "      <td>...</td>\n",
              "      <td>53,921</td>\n",
              "      <td>55,36</td>\n",
              "      <td>52,26</td>\n",
              "      <td>106,938</td>\n",
              "      <td>112,493</td>\n",
              "      <td>116,686</td>\n",
              "      <td>141,251</td>\n",
              "      <td>79,763</td>\n",
              "      <td>0</td>\n",
              "      <td>NaN</td>\n",
              "    </tr>\n",
              "    <tr>\n",
              "      <th>36</th>\n",
              "      <td>Egypt</td>\n",
              "      <td>0</td>\n",
              "      <td>0</td>\n",
              "      <td>0</td>\n",
              "      <td>0</td>\n",
              "      <td>0</td>\n",
              "      <td>0</td>\n",
              "      <td>0</td>\n",
              "      <td>0</td>\n",
              "      <td>0</td>\n",
              "      <td>...</td>\n",
              "      <td>81,731</td>\n",
              "      <td>56,48</td>\n",
              "      <td>39,05</td>\n",
              "      <td>42,515</td>\n",
              "      <td>36</td>\n",
              "      <td>36,23</td>\n",
              "      <td>36,64</td>\n",
              "      <td>71,6</td>\n",
              "      <td>0</td>\n",
              "      <td>NaN</td>\n",
              "    </tr>\n",
              "    <tr>\n",
              "      <th>37</th>\n",
              "      <td>Serbia</td>\n",
              "      <td>0</td>\n",
              "      <td>0</td>\n",
              "      <td>0</td>\n",
              "      <td>0</td>\n",
              "      <td>0</td>\n",
              "      <td>0</td>\n",
              "      <td>0</td>\n",
              "      <td>0</td>\n",
              "      <td>0</td>\n",
              "      <td>...</td>\n",
              "      <td>11,023</td>\n",
              "      <td>11,032</td>\n",
              "      <td>113,878</td>\n",
              "      <td>103,15</td>\n",
              "      <td>83,63</td>\n",
              "      <td>80,32</td>\n",
              "      <td>79,912</td>\n",
              "      <td>56,449</td>\n",
              "      <td>0</td>\n",
              "      <td>NaN</td>\n",
              "    </tr>\n",
              "    <tr>\n",
              "      <th>38</th>\n",
              "      <td>Sweden</td>\n",
              "      <td>28</td>\n",
              "      <td>78,5</td>\n",
              "      <td>129</td>\n",
              "      <td>220</td>\n",
              "      <td>311</td>\n",
              "      <td>314</td>\n",
              "      <td>317</td>\n",
              "      <td>330,5</td>\n",
              "      <td>344</td>\n",
              "      <td>...</td>\n",
              "      <td>188,969</td>\n",
              "      <td>162,814</td>\n",
              "      <td>161,08</td>\n",
              "      <td>154,173</td>\n",
              "      <td>188,987</td>\n",
              "      <td>205,374</td>\n",
              "      <td>226</td>\n",
              "      <td>291</td>\n",
              "      <td>279</td>\n",
              "      <td>NaN</td>\n",
              "    </tr>\n",
              "  </tbody>\n",
              "</table>\n",
              "<p>5 rows × 33 columns</p>\n",
              "</div>\n",
              "      <button class=\"colab-df-convert\" onclick=\"convertToInteractive('df-a801ece1-77a9-4709-8d7b-6b2a7fdf2e87')\"\n",
              "              title=\"Convert this dataframe to an interactive table.\"\n",
              "              style=\"display:none;\">\n",
              "        \n",
              "  <svg xmlns=\"http://www.w3.org/2000/svg\" height=\"24px\"viewBox=\"0 0 24 24\"\n",
              "       width=\"24px\">\n",
              "    <path d=\"M0 0h24v24H0V0z\" fill=\"none\"/>\n",
              "    <path d=\"M18.56 5.44l.94 2.06.94-2.06 2.06-.94-2.06-.94-.94-2.06-.94 2.06-2.06.94zm-11 1L8.5 8.5l.94-2.06 2.06-.94-2.06-.94L8.5 2.5l-.94 2.06-2.06.94zm10 10l.94 2.06.94-2.06 2.06-.94-2.06-.94-.94-2.06-.94 2.06-2.06.94z\"/><path d=\"M17.41 7.96l-1.37-1.37c-.4-.4-.92-.59-1.43-.59-.52 0-1.04.2-1.43.59L10.3 9.45l-7.72 7.72c-.78.78-.78 2.05 0 2.83L4 21.41c.39.39.9.59 1.41.59.51 0 1.02-.2 1.41-.59l7.78-7.78 2.81-2.81c.8-.78.8-2.07 0-2.86zM5.41 20L4 18.59l7.72-7.72 1.47 1.35L5.41 20z\"/>\n",
              "  </svg>\n",
              "      </button>\n",
              "      \n",
              "  <style>\n",
              "    .colab-df-container {\n",
              "      display:flex;\n",
              "      flex-wrap:wrap;\n",
              "      gap: 12px;\n",
              "    }\n",
              "\n",
              "    .colab-df-convert {\n",
              "      background-color: #E8F0FE;\n",
              "      border: none;\n",
              "      border-radius: 50%;\n",
              "      cursor: pointer;\n",
              "      display: none;\n",
              "      fill: #1967D2;\n",
              "      height: 32px;\n",
              "      padding: 0 0 0 0;\n",
              "      width: 32px;\n",
              "    }\n",
              "\n",
              "    .colab-df-convert:hover {\n",
              "      background-color: #E2EBFA;\n",
              "      box-shadow: 0px 1px 2px rgba(60, 64, 67, 0.3), 0px 1px 3px 1px rgba(60, 64, 67, 0.15);\n",
              "      fill: #174EA6;\n",
              "    }\n",
              "\n",
              "    [theme=dark] .colab-df-convert {\n",
              "      background-color: #3B4455;\n",
              "      fill: #D2E3FC;\n",
              "    }\n",
              "\n",
              "    [theme=dark] .colab-df-convert:hover {\n",
              "      background-color: #434B5C;\n",
              "      box-shadow: 0px 1px 3px 1px rgba(0, 0, 0, 0.15);\n",
              "      filter: drop-shadow(0px 1px 2px rgba(0, 0, 0, 0.3));\n",
              "      fill: #FFFFFF;\n",
              "    }\n",
              "  </style>\n",
              "\n",
              "      <script>\n",
              "        const buttonEl =\n",
              "          document.querySelector('#df-a801ece1-77a9-4709-8d7b-6b2a7fdf2e87 button.colab-df-convert');\n",
              "        buttonEl.style.display =\n",
              "          google.colab.kernel.accessAllowed ? 'block' : 'none';\n",
              "\n",
              "        async function convertToInteractive(key) {\n",
              "          const element = document.querySelector('#df-a801ece1-77a9-4709-8d7b-6b2a7fdf2e87');\n",
              "          const dataTable =\n",
              "            await google.colab.kernel.invokeFunction('convertToInteractive',\n",
              "                                                     [key], {});\n",
              "          if (!dataTable) return;\n",
              "\n",
              "          const docLinkHtml = 'Like what you see? Visit the ' +\n",
              "            '<a target=\"_blank\" href=https://colab.research.google.com/notebooks/data_table.ipynb>data table notebook</a>'\n",
              "            + ' to learn more about interactive tables.';\n",
              "          element.innerHTML = '';\n",
              "          dataTable['output_type'] = 'display_data';\n",
              "          await google.colab.output.renderOutput(dataTable, element);\n",
              "          const docLink = document.createElement('div');\n",
              "          docLink.innerHTML = docLinkHtml;\n",
              "          element.appendChild(docLink);\n",
              "        }\n",
              "      </script>\n",
              "    </div>\n",
              "  </div>\n",
              "  "
            ]
          },
          "metadata": {},
          "execution_count": 65
        }
      ]
    },
    {
      "cell_type": "markdown",
      "source": [
        "Menghitung missing values pada dataset"
      ],
      "metadata": {
        "id": "SAwmhEMudEEc"
      }
    },
    {
      "cell_type": "code",
      "source": [
        "sample.isnull().sum()"
      ],
      "metadata": {
        "colab": {
          "base_uri": "https://localhost:8080/"
        },
        "id": "KdaV2H_TdIJ8",
        "outputId": "ee5a7231-8999-4f54-fa83-889f106733b3"
      },
      "execution_count": null,
      "outputs": [
        {
          "output_type": "execute_result",
          "data": {
            "text/plain": [
              "Country         0\n",
              "1950            0\n",
              "1955            0\n",
              "1960            0\n",
              "1965            0\n",
              "1970            0\n",
              "1975            0\n",
              "1980            0\n",
              "1985            0\n",
              "1990            0\n",
              "1995            2\n",
              "1999            0\n",
              "2000            0\n",
              "2001            0\n",
              "2002            0\n",
              "2003            0\n",
              "2004            0\n",
              "2005            0\n",
              "2006            0\n",
              "2007            0\n",
              "2008            0\n",
              "2009            0\n",
              "2010            0\n",
              "2011            0\n",
              "2012            0\n",
              "2013            0\n",
              "2014            0\n",
              "2015            0\n",
              "2016            0\n",
              "2017            0\n",
              "2018            0\n",
              "2019            0\n",
              "Unnamed: 32    39\n",
              "dtype: int64"
            ]
          },
          "metadata": {},
          "execution_count": 66
        }
      ]
    },
    {
      "cell_type": "markdown",
      "source": [
        "Mencari info pada dataset "
      ],
      "metadata": {
        "id": "Yn8UsoFYdm7G"
      }
    },
    {
      "cell_type": "code",
      "source": [
        "sample.info()"
      ],
      "metadata": {
        "colab": {
          "base_uri": "https://localhost:8080/"
        },
        "id": "b2NMhECRdpJp",
        "outputId": "24340d8d-f052-4e9a-a7db-1af8046b7fc2"
      },
      "execution_count": null,
      "outputs": [
        {
          "output_type": "stream",
          "name": "stdout",
          "text": [
            "<class 'pandas.core.frame.DataFrame'>\n",
            "RangeIndex: 39 entries, 0 to 38\n",
            "Data columns (total 33 columns):\n",
            " #   Column       Non-Null Count  Dtype  \n",
            "---  ------       --------------  -----  \n",
            " 0   Country      39 non-null     object \n",
            " 1   1950         39 non-null     object \n",
            " 2   1955         39 non-null     object \n",
            " 3   1960         39 non-null     object \n",
            " 4   1965         39 non-null     object \n",
            " 5   1970         39 non-null     object \n",
            " 6   1975         39 non-null     object \n",
            " 7   1980         39 non-null     object \n",
            " 8   1985         39 non-null     object \n",
            " 9   1990         39 non-null     object \n",
            " 10  1995         37 non-null     object \n",
            " 11  1999         39 non-null     object \n",
            " 12  2000         39 non-null     object \n",
            " 13  2001         39 non-null     object \n",
            " 14  2002         39 non-null     object \n",
            " 15  2003         39 non-null     object \n",
            " 16  2004         39 non-null     object \n",
            " 17  2005         39 non-null     object \n",
            " 18  2006         39 non-null     object \n",
            " 19  2007         39 non-null     object \n",
            " 20  2008         39 non-null     object \n",
            " 21  2009         39 non-null     object \n",
            " 22  2010         39 non-null     object \n",
            " 23  2011         39 non-null     object \n",
            " 24  2012         39 non-null     object \n",
            " 25  2013         39 non-null     object \n",
            " 26  2014         39 non-null     object \n",
            " 27  2015         39 non-null     object \n",
            " 28  2016         39 non-null     object \n",
            " 29  2017         39 non-null     object \n",
            " 30  2018         39 non-null     object \n",
            " 31  2019         39 non-null     object \n",
            " 32  Unnamed: 32  0 non-null      float64\n",
            "dtypes: float64(1), object(32)\n",
            "memory usage: 10.2+ KB\n"
          ]
        }
      ]
    },
    {
      "cell_type": "markdown",
      "source": [
        "Menganalisa sebuah dataset dengan mendapatkan informasi dasar pada dataset "
      ],
      "metadata": {
        "id": "GU-h4yQMeVWL"
      }
    },
    {
      "cell_type": "code",
      "source": [
        "sample.info(verbose=False)"
      ],
      "metadata": {
        "colab": {
          "base_uri": "https://localhost:8080/"
        },
        "id": "ke3GL3VoeiHF",
        "outputId": "d7dfe5bb-26d6-4951-f0e9-69db3e44f134"
      },
      "execution_count": null,
      "outputs": [
        {
          "output_type": "stream",
          "name": "stdout",
          "text": [
            "<class 'pandas.core.frame.DataFrame'>\n",
            "RangeIndex: 39 entries, 0 to 38\n",
            "Columns: 33 entries, Country to Unnamed: 32\n",
            "dtypes: float64(1), object(32)\n",
            "memory usage: 10.2+ KB\n"
          ]
        }
      ]
    },
    {
      "cell_type": "markdown",
      "source": [
        "Mendapatkan list kolom pada dataset"
      ],
      "metadata": {
        "id": "388ys-aIeoL-"
      }
    },
    {
      "cell_type": "code",
      "source": [
        "sample.columns"
      ],
      "metadata": {
        "colab": {
          "base_uri": "https://localhost:8080/"
        },
        "id": "SLebsK5PetoZ",
        "outputId": "c88652c1-fa6b-439e-8f6f-ac5750003dd4"
      },
      "execution_count": null,
      "outputs": [
        {
          "output_type": "execute_result",
          "data": {
            "text/plain": [
              "Index(['Country', '1950', '1955', '1960', '1965', '1970', '1975', '1980',\n",
              "       '1985', '1990', '1995', '1999', '2000', '2001', '2002', '2003', '2004',\n",
              "       '2005', '2006', '2007', '2008', '2009', '2010', '2011', '2012', '2013',\n",
              "       '2014', '2015', '2016', '2017', '2018', '2019', 'Unnamed: 32'],\n",
              "      dtype='object')"
            ]
          },
          "metadata": {},
          "execution_count": 69
        }
      ]
    },
    {
      "cell_type": "markdown",
      "source": [
        "list pada setiap index"
      ],
      "metadata": {
        "id": "_XAR3SWDew4L"
      }
    },
    {
      "cell_type": "code",
      "source": [
        "sample.index"
      ],
      "metadata": {
        "colab": {
          "base_uri": "https://localhost:8080/"
        },
        "id": "lG0IWY3ZfDeV",
        "outputId": "473150c4-a522-427f-9ea3-b384c03b1214"
      },
      "execution_count": null,
      "outputs": [
        {
          "output_type": "execute_result",
          "data": {
            "text/plain": [
              "RangeIndex(start=0, stop=39, step=1)"
            ]
          },
          "metadata": {},
          "execution_count": 70
        }
      ]
    },
    {
      "cell_type": "markdown",
      "source": [
        "tipe default dari setiap index dan kolom bukanlah list"
      ],
      "metadata": {
        "id": "PHMLojkvfJjV"
      }
    },
    {
      "cell_type": "code",
      "source": [
        "print(type(sample.columns))\n",
        "print(type(sample.index))"
      ],
      "metadata": {
        "colab": {
          "base_uri": "https://localhost:8080/"
        },
        "id": "-_OperhEfhUE",
        "outputId": "555af01d-96f4-4245-8276-d441663b027e"
      },
      "execution_count": null,
      "outputs": [
        {
          "output_type": "stream",
          "name": "stdout",
          "text": [
            "<class 'pandas.core.indexes.base.Index'>\n",
            "<class 'pandas.core.indexes.range.RangeIndex'>\n"
          ]
        }
      ]
    },
    {
      "cell_type": "markdown",
      "source": [
        "Untuk mendapatkan index dan kolom sebagai list, kita bisa menggunakan method toList()"
      ],
      "metadata": {
        "id": "TEUk-dS_fn1B"
      }
    },
    {
      "cell_type": "code",
      "source": [
        "sample.columns.tolist()"
      ],
      "metadata": {
        "colab": {
          "base_uri": "https://localhost:8080/"
        },
        "id": "4rJGS9pMftP0",
        "outputId": "9cb84a06-acdc-47af-cbc4-c122d5a252fd"
      },
      "execution_count": null,
      "outputs": [
        {
          "output_type": "execute_result",
          "data": {
            "text/plain": [
              "['Country',\n",
              " '1950',\n",
              " '1955',\n",
              " '1960',\n",
              " '1965',\n",
              " '1970',\n",
              " '1975',\n",
              " '1980',\n",
              " '1985',\n",
              " '1990',\n",
              " '1995',\n",
              " '1999',\n",
              " '2000',\n",
              " '2001',\n",
              " '2002',\n",
              " '2003',\n",
              " '2004',\n",
              " '2005',\n",
              " '2006',\n",
              " '2007',\n",
              " '2008',\n",
              " '2009',\n",
              " '2010',\n",
              " '2011',\n",
              " '2012',\n",
              " '2013',\n",
              " '2014',\n",
              " '2015',\n",
              " '2016',\n",
              " '2017',\n",
              " '2018',\n",
              " '2019',\n",
              " 'Unnamed: 32']"
            ]
          },
          "metadata": {},
          "execution_count": 72
        }
      ]
    },
    {
      "cell_type": "code",
      "source": [
        "sample.index.tolist()"
      ],
      "metadata": {
        "colab": {
          "base_uri": "https://localhost:8080/"
        },
        "id": "_Y6VWEgpfx0b",
        "outputId": "46bf04db-2ca8-47d1-dac5-feb864233d46"
      },
      "execution_count": null,
      "outputs": [
        {
          "output_type": "execute_result",
          "data": {
            "text/plain": [
              "[0,\n",
              " 1,\n",
              " 2,\n",
              " 3,\n",
              " 4,\n",
              " 5,\n",
              " 6,\n",
              " 7,\n",
              " 8,\n",
              " 9,\n",
              " 10,\n",
              " 11,\n",
              " 12,\n",
              " 13,\n",
              " 14,\n",
              " 15,\n",
              " 16,\n",
              " 17,\n",
              " 18,\n",
              " 19,\n",
              " 20,\n",
              " 21,\n",
              " 22,\n",
              " 23,\n",
              " 24,\n",
              " 25,\n",
              " 26,\n",
              " 27,\n",
              " 28,\n",
              " 29,\n",
              " 30,\n",
              " 31,\n",
              " 32,\n",
              " 33,\n",
              " 34,\n",
              " 35,\n",
              " 36,\n",
              " 37,\n",
              " 38]"
            ]
          },
          "metadata": {},
          "execution_count": 73
        }
      ]
    },
    {
      "cell_type": "markdown",
      "source": [
        "Melihat dimensi pada dataframe kita bisa menggunakan method shape"
      ],
      "metadata": {
        "id": "qplBsKa1f3JY"
      }
    },
    {
      "cell_type": "code",
      "source": [
        "sample.shape"
      ],
      "metadata": {
        "colab": {
          "base_uri": "https://localhost:8080/"
        },
        "id": "ZjVRYgvXf6le",
        "outputId": "700ba0c3-82b6-4c5e-c17c-8e1cda09fe74"
      },
      "execution_count": null,
      "outputs": [
        {
          "output_type": "execute_result",
          "data": {
            "text/plain": [
              "(39, 33)"
            ]
          },
          "metadata": {},
          "execution_count": 74
        }
      ]
    },
    {
      "cell_type": "markdown",
      "source": [
        "Kita bisa menambahkan kolom total di akhir dengan cara sebagai berikut:"
      ],
      "metadata": {
        "id": "lpOEuRHhf_DX"
      }
    },
    {
      "cell_type": "code",
      "source": [
        "sample['Total'] = sample.sum(axis=1)"
      ],
      "metadata": {
        "colab": {
          "base_uri": "https://localhost:8080/"
        },
        "id": "vMoKrUSwgYhh",
        "outputId": "d5edf39c-320b-4a3e-85f1-a1ce047aeeda"
      },
      "execution_count": null,
      "outputs": [
        {
          "output_type": "stream",
          "name": "stderr",
          "text": [
            "/usr/local/lib/python3.7/dist-packages/ipykernel_launcher.py:1: FutureWarning: Dropping of nuisance columns in DataFrame reductions (with 'numeric_only=None') is deprecated; in a future version this will raise TypeError.  Select only valid columns before calling the reduction.\n",
            "  \"\"\"Entry point for launching an IPython kernel.\n"
          ]
        }
      ]
    },
    {
      "cell_type": "markdown",
      "source": [
        "Mendapatkan nilai deskriptif statistik dengan cara sebagai berikut"
      ],
      "metadata": {
        "id": "m8iG7hBFgmAE"
      }
    },
    {
      "cell_type": "code",
      "source": [
        "sample.describe()"
      ],
      "metadata": {
        "colab": {
          "base_uri": "https://localhost:8080/",
          "height": 300
        },
        "id": "dyT8Uj_Ugllr",
        "outputId": "a9af4e3c-acbd-4feb-c8ac-64d6a1d2d6be"
      },
      "execution_count": null,
      "outputs": [
        {
          "output_type": "execute_result",
          "data": {
            "text/plain": [
              "       Unnamed: 32  Total\n",
              "count          0.0   39.0\n",
              "mean           NaN    0.0\n",
              "std            NaN    0.0\n",
              "min            NaN    0.0\n",
              "25%            NaN    0.0\n",
              "50%            NaN    0.0\n",
              "75%            NaN    0.0\n",
              "max            NaN    0.0"
            ],
            "text/html": [
              "\n",
              "  <div id=\"df-298da97e-59a8-43ce-808f-8a76868f9648\">\n",
              "    <div class=\"colab-df-container\">\n",
              "      <div>\n",
              "<style scoped>\n",
              "    .dataframe tbody tr th:only-of-type {\n",
              "        vertical-align: middle;\n",
              "    }\n",
              "\n",
              "    .dataframe tbody tr th {\n",
              "        vertical-align: top;\n",
              "    }\n",
              "\n",
              "    .dataframe thead th {\n",
              "        text-align: right;\n",
              "    }\n",
              "</style>\n",
              "<table border=\"1\" class=\"dataframe\">\n",
              "  <thead>\n",
              "    <tr style=\"text-align: right;\">\n",
              "      <th></th>\n",
              "      <th>Unnamed: 32</th>\n",
              "      <th>Total</th>\n",
              "    </tr>\n",
              "  </thead>\n",
              "  <tbody>\n",
              "    <tr>\n",
              "      <th>count</th>\n",
              "      <td>0.0</td>\n",
              "      <td>39.0</td>\n",
              "    </tr>\n",
              "    <tr>\n",
              "      <th>mean</th>\n",
              "      <td>NaN</td>\n",
              "      <td>0.0</td>\n",
              "    </tr>\n",
              "    <tr>\n",
              "      <th>std</th>\n",
              "      <td>NaN</td>\n",
              "      <td>0.0</td>\n",
              "    </tr>\n",
              "    <tr>\n",
              "      <th>min</th>\n",
              "      <td>NaN</td>\n",
              "      <td>0.0</td>\n",
              "    </tr>\n",
              "    <tr>\n",
              "      <th>25%</th>\n",
              "      <td>NaN</td>\n",
              "      <td>0.0</td>\n",
              "    </tr>\n",
              "    <tr>\n",
              "      <th>50%</th>\n",
              "      <td>NaN</td>\n",
              "      <td>0.0</td>\n",
              "    </tr>\n",
              "    <tr>\n",
              "      <th>75%</th>\n",
              "      <td>NaN</td>\n",
              "      <td>0.0</td>\n",
              "    </tr>\n",
              "    <tr>\n",
              "      <th>max</th>\n",
              "      <td>NaN</td>\n",
              "      <td>0.0</td>\n",
              "    </tr>\n",
              "  </tbody>\n",
              "</table>\n",
              "</div>\n",
              "      <button class=\"colab-df-convert\" onclick=\"convertToInteractive('df-298da97e-59a8-43ce-808f-8a76868f9648')\"\n",
              "              title=\"Convert this dataframe to an interactive table.\"\n",
              "              style=\"display:none;\">\n",
              "        \n",
              "  <svg xmlns=\"http://www.w3.org/2000/svg\" height=\"24px\"viewBox=\"0 0 24 24\"\n",
              "       width=\"24px\">\n",
              "    <path d=\"M0 0h24v24H0V0z\" fill=\"none\"/>\n",
              "    <path d=\"M18.56 5.44l.94 2.06.94-2.06 2.06-.94-2.06-.94-.94-2.06-.94 2.06-2.06.94zm-11 1L8.5 8.5l.94-2.06 2.06-.94-2.06-.94L8.5 2.5l-.94 2.06-2.06.94zm10 10l.94 2.06.94-2.06 2.06-.94-2.06-.94-.94-2.06-.94 2.06-2.06.94z\"/><path d=\"M17.41 7.96l-1.37-1.37c-.4-.4-.92-.59-1.43-.59-.52 0-1.04.2-1.43.59L10.3 9.45l-7.72 7.72c-.78.78-.78 2.05 0 2.83L4 21.41c.39.39.9.59 1.41.59.51 0 1.02-.2 1.41-.59l7.78-7.78 2.81-2.81c.8-.78.8-2.07 0-2.86zM5.41 20L4 18.59l7.72-7.72 1.47 1.35L5.41 20z\"/>\n",
              "  </svg>\n",
              "      </button>\n",
              "      \n",
              "  <style>\n",
              "    .colab-df-container {\n",
              "      display:flex;\n",
              "      flex-wrap:wrap;\n",
              "      gap: 12px;\n",
              "    }\n",
              "\n",
              "    .colab-df-convert {\n",
              "      background-color: #E8F0FE;\n",
              "      border: none;\n",
              "      border-radius: 50%;\n",
              "      cursor: pointer;\n",
              "      display: none;\n",
              "      fill: #1967D2;\n",
              "      height: 32px;\n",
              "      padding: 0 0 0 0;\n",
              "      width: 32px;\n",
              "    }\n",
              "\n",
              "    .colab-df-convert:hover {\n",
              "      background-color: #E2EBFA;\n",
              "      box-shadow: 0px 1px 2px rgba(60, 64, 67, 0.3), 0px 1px 3px 1px rgba(60, 64, 67, 0.15);\n",
              "      fill: #174EA6;\n",
              "    }\n",
              "\n",
              "    [theme=dark] .colab-df-convert {\n",
              "      background-color: #3B4455;\n",
              "      fill: #D2E3FC;\n",
              "    }\n",
              "\n",
              "    [theme=dark] .colab-df-convert:hover {\n",
              "      background-color: #434B5C;\n",
              "      box-shadow: 0px 1px 3px 1px rgba(0, 0, 0, 0.15);\n",
              "      filter: drop-shadow(0px 1px 2px rgba(0, 0, 0, 0.3));\n",
              "      fill: #FFFFFF;\n",
              "    }\n",
              "  </style>\n",
              "\n",
              "      <script>\n",
              "        const buttonEl =\n",
              "          document.querySelector('#df-298da97e-59a8-43ce-808f-8a76868f9648 button.colab-df-convert');\n",
              "        buttonEl.style.display =\n",
              "          google.colab.kernel.accessAllowed ? 'block' : 'none';\n",
              "\n",
              "        async function convertToInteractive(key) {\n",
              "          const element = document.querySelector('#df-298da97e-59a8-43ce-808f-8a76868f9648');\n",
              "          const dataTable =\n",
              "            await google.colab.kernel.invokeFunction('convertToInteractive',\n",
              "                                                     [key], {});\n",
              "          if (!dataTable) return;\n",
              "\n",
              "          const docLinkHtml = 'Like what you see? Visit the ' +\n",
              "            '<a target=\"_blank\" href=https://colab.research.google.com/notebooks/data_table.ipynb>data table notebook</a>'\n",
              "            + ' to learn more about interactive tables.';\n",
              "          element.innerHTML = '';\n",
              "          dataTable['output_type'] = 'display_data';\n",
              "          await google.colab.output.renderOutput(dataTable, element);\n",
              "          const docLink = document.createElement('div');\n",
              "          docLink.innerHTML = docLinkHtml;\n",
              "          element.appendChild(docLink);\n",
              "        }\n",
              "      </script>\n",
              "    </div>\n",
              "  </div>\n",
              "  "
            ]
          },
          "metadata": {},
          "execution_count": 76
        }
      ]
    },
    {
      "cell_type": "markdown",
      "source": [
        "Mendeklarasi sebuah variabel yang menyetujui kita untuk memudahkan pemanggilan atas rentang tahun"
      ],
      "metadata": {
        "id": "GFWS2JvEgzaX"
      }
    },
    {
      "cell_type": "code",
      "source": [
        "years = list(map(int,(1950,1955,1960,1965,1970,1975,1980,1985,1990,1995,1999,2000,2001,2002,2003,2004,2005,2006,2007,2008,2009,2010,2011,2012,2013,2014,2015,2016,2017,2018,2019)))\n",
        "years\n",
        "#years2 = list(map(int,(1950,1955,1960,1965,1970,1975,1980,1985,1990,1995,1999,2000,2001,2002,2003,2004,2005,2006,2007,2008,2009,2010,2011,2012,2013,2014,2015,2016,2017,2018,2019)))\n",
        "#years2"
      ],
      "metadata": {
        "colab": {
          "base_uri": "https://localhost:8080/"
        },
        "id": "F49DRKWIg67O",
        "outputId": "3ecebaf4-4580-4c86-8dc3-a6ef2cc62f36"
      },
      "execution_count": null,
      "outputs": [
        {
          "output_type": "execute_result",
          "data": {
            "text/plain": [
              "[1950,\n",
              " 1955,\n",
              " 1960,\n",
              " 1965,\n",
              " 1970,\n",
              " 1975,\n",
              " 1980,\n",
              " 1985,\n",
              " 1990,\n",
              " 1995,\n",
              " 1999,\n",
              " 2000,\n",
              " 2001,\n",
              " 2002,\n",
              " 2003,\n",
              " 2004,\n",
              " 2005,\n",
              " 2006,\n",
              " 2007,\n",
              " 2008,\n",
              " 2009,\n",
              " 2010,\n",
              " 2011,\n",
              " 2012,\n",
              " 2013,\n",
              " 2014,\n",
              " 2015,\n",
              " 2016,\n",
              " 2017,\n",
              " 2018,\n",
              " 2019]"
            ]
          },
          "metadata": {},
          "execution_count": 77
        }
      ]
    },
    {
      "cell_type": "code",
      "source": [
        "sample.index"
      ],
      "metadata": {
        "colab": {
          "base_uri": "https://localhost:8080/"
        },
        "id": "qSLCmDsTrE_y",
        "outputId": "306af6b9-bdc3-411c-a67a-09f3368d9202"
      },
      "execution_count": null,
      "outputs": [
        {
          "output_type": "execute_result",
          "data": {
            "text/plain": [
              "RangeIndex(start=0, stop=39, step=1)"
            ]
          },
          "metadata": {},
          "execution_count": 78
        }
      ]
    },
    {
      "cell_type": "markdown",
      "source": [
        "### 2 FILTERING"
      ],
      "metadata": {
        "id": "o8732iyRcyKR"
      }
    },
    {
      "cell_type": "code",
      "source": [
        "Indonesia = sample['Country'] == 'Indonesia'\n",
        "print(Indonesia)"
      ],
      "metadata": {
        "id": "d9-br-Sgc2US",
        "colab": {
          "base_uri": "https://localhost:8080/"
        },
        "outputId": "4835d57d-1ba8-4e0c-819d-b487ac34c159"
      },
      "execution_count": null,
      "outputs": [
        {
          "output_type": "stream",
          "name": "stdout",
          "text": [
            "0     False\n",
            "1     False\n",
            "2     False\n",
            "3     False\n",
            "4     False\n",
            "5     False\n",
            "6     False\n",
            "7     False\n",
            "8     False\n",
            "9     False\n",
            "10    False\n",
            "11    False\n",
            "12    False\n",
            "13    False\n",
            "14    False\n",
            "15    False\n",
            "16     True\n",
            "17    False\n",
            "18    False\n",
            "19    False\n",
            "20    False\n",
            "21    False\n",
            "22    False\n",
            "23    False\n",
            "24    False\n",
            "25    False\n",
            "26    False\n",
            "27    False\n",
            "28    False\n",
            "29    False\n",
            "30    False\n",
            "31    False\n",
            "32    False\n",
            "33    False\n",
            "34    False\n",
            "35    False\n",
            "36    False\n",
            "37    False\n",
            "38    False\n",
            "Name: Country, dtype: bool\n"
          ]
        }
      ]
    },
    {
      "cell_type": "code",
      "source": [
        "sample[Indonesia]"
      ],
      "metadata": {
        "colab": {
          "base_uri": "https://localhost:8080/",
          "height": 110
        },
        "id": "hm27nB6ToKoC",
        "outputId": "aadee63b-de42-43dc-cc37-22db59011d75"
      },
      "execution_count": null,
      "outputs": [
        {
          "output_type": "execute_result",
          "data": {
            "text/plain": [
              "      Country 1950 1955 1960 1965 1970  1975 1980  1985 1990  ...       2012  \\\n",
              "16  Indonesia    0    0    0    0    0  51,5  103  51,5    0  ...  1,052,895   \n",
              "\n",
              "         2013       2014       2015       2016       2017       2018  \\\n",
              "16  1,206,368  1,298,523  1,098,780  1,177,389  1,216,615  1,343,714   \n",
              "\n",
              "         2019 Unnamed: 32 Total  \n",
              "16  1,286,000         NaN   0.0  \n",
              "\n",
              "[1 rows x 34 columns]"
            ],
            "text/html": [
              "\n",
              "  <div id=\"df-18481d59-07a7-4a8e-8e9a-a940694a0ee8\">\n",
              "    <div class=\"colab-df-container\">\n",
              "      <div>\n",
              "<style scoped>\n",
              "    .dataframe tbody tr th:only-of-type {\n",
              "        vertical-align: middle;\n",
              "    }\n",
              "\n",
              "    .dataframe tbody tr th {\n",
              "        vertical-align: top;\n",
              "    }\n",
              "\n",
              "    .dataframe thead th {\n",
              "        text-align: right;\n",
              "    }\n",
              "</style>\n",
              "<table border=\"1\" class=\"dataframe\">\n",
              "  <thead>\n",
              "    <tr style=\"text-align: right;\">\n",
              "      <th></th>\n",
              "      <th>Country</th>\n",
              "      <th>1950</th>\n",
              "      <th>1955</th>\n",
              "      <th>1960</th>\n",
              "      <th>1965</th>\n",
              "      <th>1970</th>\n",
              "      <th>1975</th>\n",
              "      <th>1980</th>\n",
              "      <th>1985</th>\n",
              "      <th>1990</th>\n",
              "      <th>...</th>\n",
              "      <th>2012</th>\n",
              "      <th>2013</th>\n",
              "      <th>2014</th>\n",
              "      <th>2015</th>\n",
              "      <th>2016</th>\n",
              "      <th>2017</th>\n",
              "      <th>2018</th>\n",
              "      <th>2019</th>\n",
              "      <th>Unnamed: 32</th>\n",
              "      <th>Total</th>\n",
              "    </tr>\n",
              "  </thead>\n",
              "  <tbody>\n",
              "    <tr>\n",
              "      <th>16</th>\n",
              "      <td>Indonesia</td>\n",
              "      <td>0</td>\n",
              "      <td>0</td>\n",
              "      <td>0</td>\n",
              "      <td>0</td>\n",
              "      <td>0</td>\n",
              "      <td>51,5</td>\n",
              "      <td>103</td>\n",
              "      <td>51,5</td>\n",
              "      <td>0</td>\n",
              "      <td>...</td>\n",
              "      <td>1,052,895</td>\n",
              "      <td>1,206,368</td>\n",
              "      <td>1,298,523</td>\n",
              "      <td>1,098,780</td>\n",
              "      <td>1,177,389</td>\n",
              "      <td>1,216,615</td>\n",
              "      <td>1,343,714</td>\n",
              "      <td>1,286,000</td>\n",
              "      <td>NaN</td>\n",
              "      <td>0.0</td>\n",
              "    </tr>\n",
              "  </tbody>\n",
              "</table>\n",
              "<p>1 rows × 34 columns</p>\n",
              "</div>\n",
              "      <button class=\"colab-df-convert\" onclick=\"convertToInteractive('df-18481d59-07a7-4a8e-8e9a-a940694a0ee8')\"\n",
              "              title=\"Convert this dataframe to an interactive table.\"\n",
              "              style=\"display:none;\">\n",
              "        \n",
              "  <svg xmlns=\"http://www.w3.org/2000/svg\" height=\"24px\"viewBox=\"0 0 24 24\"\n",
              "       width=\"24px\">\n",
              "    <path d=\"M0 0h24v24H0V0z\" fill=\"none\"/>\n",
              "    <path d=\"M18.56 5.44l.94 2.06.94-2.06 2.06-.94-2.06-.94-.94-2.06-.94 2.06-2.06.94zm-11 1L8.5 8.5l.94-2.06 2.06-.94-2.06-.94L8.5 2.5l-.94 2.06-2.06.94zm10 10l.94 2.06.94-2.06 2.06-.94-2.06-.94-.94-2.06-.94 2.06-2.06.94z\"/><path d=\"M17.41 7.96l-1.37-1.37c-.4-.4-.92-.59-1.43-.59-.52 0-1.04.2-1.43.59L10.3 9.45l-7.72 7.72c-.78.78-.78 2.05 0 2.83L4 21.41c.39.39.9.59 1.41.59.51 0 1.02-.2 1.41-.59l7.78-7.78 2.81-2.81c.8-.78.8-2.07 0-2.86zM5.41 20L4 18.59l7.72-7.72 1.47 1.35L5.41 20z\"/>\n",
              "  </svg>\n",
              "      </button>\n",
              "      \n",
              "  <style>\n",
              "    .colab-df-container {\n",
              "      display:flex;\n",
              "      flex-wrap:wrap;\n",
              "      gap: 12px;\n",
              "    }\n",
              "\n",
              "    .colab-df-convert {\n",
              "      background-color: #E8F0FE;\n",
              "      border: none;\n",
              "      border-radius: 50%;\n",
              "      cursor: pointer;\n",
              "      display: none;\n",
              "      fill: #1967D2;\n",
              "      height: 32px;\n",
              "      padding: 0 0 0 0;\n",
              "      width: 32px;\n",
              "    }\n",
              "\n",
              "    .colab-df-convert:hover {\n",
              "      background-color: #E2EBFA;\n",
              "      box-shadow: 0px 1px 2px rgba(60, 64, 67, 0.3), 0px 1px 3px 1px rgba(60, 64, 67, 0.15);\n",
              "      fill: #174EA6;\n",
              "    }\n",
              "\n",
              "    [theme=dark] .colab-df-convert {\n",
              "      background-color: #3B4455;\n",
              "      fill: #D2E3FC;\n",
              "    }\n",
              "\n",
              "    [theme=dark] .colab-df-convert:hover {\n",
              "      background-color: #434B5C;\n",
              "      box-shadow: 0px 1px 3px 1px rgba(0, 0, 0, 0.15);\n",
              "      filter: drop-shadow(0px 1px 2px rgba(0, 0, 0, 0.3));\n",
              "      fill: #FFFFFF;\n",
              "    }\n",
              "  </style>\n",
              "\n",
              "      <script>\n",
              "        const buttonEl =\n",
              "          document.querySelector('#df-18481d59-07a7-4a8e-8e9a-a940694a0ee8 button.colab-df-convert');\n",
              "        buttonEl.style.display =\n",
              "          google.colab.kernel.accessAllowed ? 'block' : 'none';\n",
              "\n",
              "        async function convertToInteractive(key) {\n",
              "          const element = document.querySelector('#df-18481d59-07a7-4a8e-8e9a-a940694a0ee8');\n",
              "          const dataTable =\n",
              "            await google.colab.kernel.invokeFunction('convertToInteractive',\n",
              "                                                     [key], {});\n",
              "          if (!dataTable) return;\n",
              "\n",
              "          const docLinkHtml = 'Like what you see? Visit the ' +\n",
              "            '<a target=\"_blank\" href=https://colab.research.google.com/notebooks/data_table.ipynb>data table notebook</a>'\n",
              "            + ' to learn more about interactive tables.';\n",
              "          element.innerHTML = '';\n",
              "          dataTable['output_type'] = 'display_data';\n",
              "          await google.colab.output.renderOutput(dataTable, element);\n",
              "          const docLink = document.createElement('div');\n",
              "          docLink.innerHTML = docLinkHtml;\n",
              "          element.appendChild(docLink);\n",
              "        }\n",
              "      </script>\n",
              "    </div>\n",
              "  </div>\n",
              "  "
            ]
          },
          "metadata": {},
          "execution_count": 80
        }
      ]
    },
    {
      "cell_type": "markdown",
      "source": [
        "### 3. LINE PLOT"
      ],
      "metadata": {
        "id": "4-GG0uUvc3h6"
      }
    },
    {
      "cell_type": "code",
      "source": [
        "\n",
        "print (sample)\n",
        "print (sample.dtypes)"
      ],
      "metadata": {
        "colab": {
          "base_uri": "https://localhost:8080/"
        },
        "id": "YlJAXHUvDvby",
        "outputId": "83c50069-a64a-4df3-bbb8-74f10faa1dee"
      },
      "execution_count": null,
      "outputs": [
        {
          "output_type": "stream",
          "name": "stdout",
          "text": [
            "           Country       1950       1955       1960       1965       1970  \\\n",
            "0            China          0          0     22,574      54,87     87,166   \n",
            "1              USA  8,005,859  7,955,489  7,905,119  8,094,534  8,283,949   \n",
            "2            Japan     31,597    256,574    481,551  2,885,354  5,289,157   \n",
            "3            India     14,688     32,912     51,136     63,773     76,409   \n",
            "4          Germany    306,064  1,181,107  2,056,149  2,949,198  3,842,247   \n",
            "5           Mexico          0     24,904     49,807    121,324    192,841   \n",
            "6         S. Korea          0          0          0      14,41     28,819   \n",
            "7           Brazil          0     66,521    133,041    274,565    416,089   \n",
            "8            Spain        253     29,231     58,209    298,671    539,132   \n",
            "9           France    357,512    863,361  1,369,210  2,059,648  2,750,086   \n",
            "10        Thailand          0          0          0     11,028     22,055   \n",
            "11          Canada    387,726    392,733    397,739    778,622  1,159,504   \n",
            "12          Russia          0          0          0          0          0   \n",
            "13              UK    783,672  1,297,186  1,810,700  1,954,599  2,098,498   \n",
            "14          Turkey          0          0          0       12,5         25   \n",
            "15  Czech Republic          0          0          0          0          0   \n",
            "16       Indonesia          0          0          0          0          0   \n",
            "17            Iran          0          0          0       17,5         35   \n",
            "18        Slovakia          0          0          0          0          0   \n",
            "19           Italy    127,847     386,24    644,633  1,249,443  1,854,252   \n",
            "20          Poland          1         19         37     75,044    113,087   \n",
            "21    South Africa          0          0          0    148,787    297,573   \n",
            "22        Malaysia          0          0          0          0          0   \n",
            "23         Romania          0          6         12       35,5         59   \n",
            "24       Argentina          0       44,5         89      154,3    219,599   \n",
            "25         Hungary          0        1,5          3        1,5          0   \n",
            "26         Morocco          0          0          0          0          0   \n",
            "27         Belgium          0        500          1      148,5        296   \n",
            "28        Portugal          0          0          0          0          0   \n",
            "29        Pakistan          0          0          0          0          0   \n",
            "30          Taiwan          0          0          0          0          0   \n",
            "31      Uzbekistan          0          0          0          0          0   \n",
            "32        Slovenia          0          0          0          0          0   \n",
            "33         Austria          0        6,5         13         10          7   \n",
            "34         Finland          0          0          0          0          0   \n",
            "35     Philippines          0          0          0          0          0   \n",
            "36           Egypt          0          0          0          0          0   \n",
            "37          Serbia          0          0          0          0          0   \n",
            "38          Sweden         28       78,5        129        220        311   \n",
            "\n",
            "         1975        1980        1985        1990  ...        2012  \\\n",
            "0     154,727     222,288     365,765     509,242  ...  19,271,808   \n",
            "1   8,146,895   8,009,841   8,896,419   9,782,997  ...  10,335,765   \n",
            "2   8,166,021  11,042,884  12,264,840  13,486,796  ...   9,943,077   \n",
            "3      95,163     113,917     238,286     362,655  ...   4,174,713   \n",
            "4   3,860,400   3,878,553   4,427,553   4,976,552  ...   5,649,260   \n",
            "5     341,424     490,006     655,282     820,558  ...   3,001,814   \n",
            "6      75,977     123,135     722,383   1,321,630  ...   4,561,766   \n",
            "7     790,632   1,165,174   1,039,820     914,466  ...   3,402,508   \n",
            "8     860,396   1,181,659   1,617,505   2,053,350  ...   1,979,179   \n",
            "9   3,064,260   3,378,433   3,573,713   3,768,993  ...   1,967,765   \n",
            "10     47,701      73,347     189,095     304,843  ...   2,429,142   \n",
            "11  1,264,556   1,369,607   1,658,357   1,947,106  ...   2,463,364   \n",
            "12          0           0           0           0  ...   2,233,103   \n",
            "13  1,705,706   1,312,914   1,439,436   1,565,957  ...   1,576,945   \n",
            "14     37,941      50,881     130,016      209,15  ...   1,072,978   \n",
            "15          0           0           0           0  ...   1,178,995   \n",
            "16       51,5         103        51,5           0  ...   1,052,895   \n",
            "17         98         161     102,833      44,665  ...   1,000,089   \n",
            "18          0           0           0           0  ...     926,555   \n",
            "19  1,732,270   1,610,287   1,865,569   2,120,850  ...     671,768   \n",
            "20    265,461     417,834     382,905     347,975  ...     654,756   \n",
            "21     351,17     404,766     369,773     334,779  ...     539,424   \n",
            "22     52,114     104,227     147,904      191,58  ...      572,15   \n",
            "23       91,5         124         109          94  ...     337,765   \n",
            "24    250,696     281,793     190,716      99,639  ...     764,495   \n",
            "25          0           0           0           0  ...      217,84   \n",
            "26          0           0           0           0  ...     108,743   \n",
            "27    609,713     923,426   1,085,858   1,248,290  ...     538,848   \n",
            "28       45,5          91        58,5          26  ...     163,561   \n",
            "29          0           0           0           0  ...       165,7   \n",
            "30          0           0         191         382  ...     339,038   \n",
            "31          0           0           0           0  ...      164,18   \n",
            "32          0           0           0           0  ...     130,949   \n",
            "33       10,5          14          17          20  ...      143,06   \n",
            "34          0           0           0           0  ...         2,9   \n",
            "35          0           0           0           0  ...       55,36   \n",
            "36          0           0           0           0  ...       56,48   \n",
            "37          0           0           0           0  ...      11,032   \n",
            "38        314         317       330,5         344  ...     162,814   \n",
            "\n",
            "          2013        2014        2015        2016        2017        2018  \\\n",
            "0   22,116,825  23,722,890  24,503,326  28,118,794  29,015,434  27,809,196   \n",
            "1   11,066,432  11,660,699  12,100,095  12,198,137  11,189,985  11,314,705   \n",
            "2    9,630,181   9,774,558   9,278,321   9,204,590   9,693,746   9,728,528   \n",
            "3    3,898,425   3,840,160   4,160,585   4,519,341   4,782,896   5,174,645   \n",
            "4    5,718,222   5,907,548   6,033,164   5,746,808   5,645,581   5,120,409   \n",
            "5    3,054,849   3,365,306   3,565,469   3,600,365   4,068,415   4,100,525   \n",
            "6    4,521,429   4,524,932   4,555,957   4,228,509   4,114,913   4,028,834   \n",
            "7    3,712,380   3,364,890   2,429,463   2,156,356   2,699,672   2,879,809   \n",
            "8    2,163,338   2,402,978   2,733,201   2,885,922   2,848,335   2,819,565   \n",
            "9    1,740,000   1,817,000   1,972,000   2,082,000   2,227,000   2,270,000   \n",
            "10   2,457,057   1,880,007   1,915,420   1,944,417   1,988,823   2,167,694   \n",
            "11   2,379,806   2,393,890   2,283,474   2,370,271   2,199,789   2,020,840   \n",
            "12   2,184,266   1,886,646   1,384,399   1,303,989   1,551,293   1,767,674   \n",
            "13   1,597,433   1,598,879   1,682,156   1,816,622   1,749,385   1,604,328   \n",
            "14   1,125,534   1,170,445   1,358,796   1,485,927   1,695,731   1,550,150   \n",
            "15   1,132,931   1,251,220   1,303,603   1,349,896   1,419,993   1,345,041   \n",
            "16   1,206,368   1,298,523   1,098,780   1,177,389   1,216,615   1,343,714   \n",
            "17     743,647   1,090,846     982,337   1,164,710   1,515,396   1,095,526   \n",
            "18         975         993   1,035,503   1,040,000   1,001,520   1,090,000   \n",
            "19     658,206     697,864   1,014,223   1,103,516   1,142,210   1,060,068   \n",
            "20     590,159     593,904     660,603     681,837     689,729     659,646   \n",
            "21     545,913     566,083     615,658     599,004     589,951     610,854   \n",
            "22     601,407       596,6     614,671     513,445      460,14       564,8   \n",
            "23     410,997     391,422     387,177     359,306      359,25     476,769   \n",
            "24     791,007     617,329     533,683     472,776     472,158     466,649   \n",
            "25       222,4     437,599      495,37         472       505,4     430,988   \n",
            "26     167,452     231,986     288,329     345,106     376,286     402,085   \n",
            "27     503,504     516,832      409,34     399,427      379,14     308,493   \n",
            "28     154,016     161,509     156,626     143,096     175,544     294,366   \n",
            "29     134,145     148,746     229,686      214,65      230,25       269,7   \n",
            "30      338,72     379,223     351,085     309,531     291,563     253,241   \n",
            "31     246,641      245,66       185,4      88,152     140,247     220,667   \n",
            "32      93,734     118,591     133,092     133,702     189,852     209,378   \n",
            "33     166,428      154,34       125,5         108       99,88       164,9   \n",
            "34       7,703      45,035      69,053       55,28      91,598     112,104   \n",
            "35       52,26     106,938     112,493     116,686     141,251      79,763   \n",
            "36       39,05      42,515          36       36,23       36,64        71,6   \n",
            "37     113,878      103,15       83,63       80,32      79,912      56,449   \n",
            "38      161,08     154,173     188,987     205,374         226         291   \n",
            "\n",
            "          2019 Unnamed: 32 Total  \n",
            "0   25,720,665         NaN   0.0  \n",
            "1   10,880,019         NaN   0.0  \n",
            "2    9,684,298         NaN   0.0  \n",
            "3    4,516,017         NaN   0.0  \n",
            "4    4,661,328         NaN   0.0  \n",
            "5    3,986,794         NaN   0.0  \n",
            "6    3,950,617         NaN   0.0  \n",
            "7    2,944,988         NaN   0.0  \n",
            "8    2,822,355         NaN   0.0  \n",
            "9    2,202,460         NaN   0.0  \n",
            "10   2,013,710         NaN   0.0  \n",
            "11   1,916,585         NaN   0.0  \n",
            "12   1,719,000         NaN   0.0  \n",
            "13   1,381,000         NaN   0.0  \n",
            "14   1,461,000         NaN   0.0  \n",
            "15   1,430,000         NaN   0.0  \n",
            "16   1,286,000         NaN   0.0  \n",
            "17           0         NaN   0.0  \n",
            "18           0         NaN   0.0  \n",
            "19           0         NaN   0.0  \n",
            "20           0         NaN   0.0  \n",
            "21           0         NaN   0.0  \n",
            "22           0         NaN   0.0  \n",
            "23           0         NaN   0.0  \n",
            "24           0         NaN   0.0  \n",
            "25           0         NaN   0.0  \n",
            "26           0         NaN   0.0  \n",
            "27           0         NaN   0.0  \n",
            "28           0         NaN   0.0  \n",
            "29           0         NaN   0.0  \n",
            "30           0         NaN   0.0  \n",
            "31           0         NaN   0.0  \n",
            "32           0         NaN   0.0  \n",
            "33           0         NaN   0.0  \n",
            "34           0         NaN   0.0  \n",
            "35           0         NaN   0.0  \n",
            "36           0         NaN   0.0  \n",
            "37           0         NaN   0.0  \n",
            "38         279         NaN   0.0  \n",
            "\n",
            "[39 rows x 34 columns]\n",
            "Country         object\n",
            "1950            object\n",
            "1955            object\n",
            "1960            object\n",
            "1965            object\n",
            "1970            object\n",
            "1975            object\n",
            "1980            object\n",
            "1985            object\n",
            "1990            object\n",
            "1995            object\n",
            "1999            object\n",
            "2000            object\n",
            "2001            object\n",
            "2002            object\n",
            "2003            object\n",
            "2004            object\n",
            "2005            object\n",
            "2006            object\n",
            "2007            object\n",
            "2008            object\n",
            "2009            object\n",
            "2010            object\n",
            "2011            object\n",
            "2012            object\n",
            "2013            object\n",
            "2014            object\n",
            "2015            object\n",
            "2016            object\n",
            "2017            object\n",
            "2018            object\n",
            "2019            object\n",
            "Unnamed: 32    float64\n",
            "Total          float64\n",
            "dtype: object\n"
          ]
        }
      ]
    },
    {
      "cell_type": "code",
      "source": [
        "sample.set_index(\"Country\", inplace=True)"
      ],
      "metadata": {
        "id": "k0zComQXoWUo"
      },
      "execution_count": null,
      "outputs": []
    },
    {
      "cell_type": "code",
      "source": [
        "sample.head(4)"
      ],
      "metadata": {
        "colab": {
          "base_uri": "https://localhost:8080/",
          "height": 280
        },
        "id": "Pl30rJz_sb3K",
        "outputId": "2aee4ec4-570a-4c2a-aa1a-8a8c603e56da"
      },
      "execution_count": null,
      "outputs": [
        {
          "output_type": "execute_result",
          "data": {
            "text/plain": [
              "              1950       1955       1960       1965       1970       1975  \\\n",
              "Country                                                                     \n",
              "China            0          0     22,574      54,87     87,166    154,727   \n",
              "USA      8,005,859  7,955,489  7,905,119  8,094,534  8,283,949  8,146,895   \n",
              "Japan       31,597    256,574    481,551  2,885,354  5,289,157  8,166,021   \n",
              "India       14,688     32,912     51,136     63,773     76,409     95,163   \n",
              "\n",
              "               1980        1985        1990        1995  ...        2012  \\\n",
              "Country                                                  ...               \n",
              "China       222,288     365,765     509,242   1,434,772  ...  19,271,808   \n",
              "USA       8,009,841   8,896,419   9,782,997  11,985,457  ...  10,335,765   \n",
              "Japan    11,042,884  12,264,840  13,486,796  10,195,536  ...   9,943,077   \n",
              "India       113,917     238,286     362,655         636  ...   4,174,713   \n",
              "\n",
              "               2013        2014        2015        2016        2017  \\\n",
              "Country                                                               \n",
              "China    22,116,825  23,722,890  24,503,326  28,118,794  29,015,434   \n",
              "USA      11,066,432  11,660,699  12,100,095  12,198,137  11,189,985   \n",
              "Japan     9,630,181   9,774,558   9,278,321   9,204,590   9,693,746   \n",
              "India     3,898,425   3,840,160   4,160,585   4,519,341   4,782,896   \n",
              "\n",
              "               2018        2019 Unnamed: 32 Total  \n",
              "Country                                            \n",
              "China    27,809,196  25,720,665         NaN   0.0  \n",
              "USA      11,314,705  10,880,019         NaN   0.0  \n",
              "Japan     9,728,528   9,684,298         NaN   0.0  \n",
              "India     5,174,645   4,516,017         NaN   0.0  \n",
              "\n",
              "[4 rows x 33 columns]"
            ],
            "text/html": [
              "\n",
              "  <div id=\"df-5eab0d9f-19c8-46dc-91f8-ab9e9e9ac947\">\n",
              "    <div class=\"colab-df-container\">\n",
              "      <div>\n",
              "<style scoped>\n",
              "    .dataframe tbody tr th:only-of-type {\n",
              "        vertical-align: middle;\n",
              "    }\n",
              "\n",
              "    .dataframe tbody tr th {\n",
              "        vertical-align: top;\n",
              "    }\n",
              "\n",
              "    .dataframe thead th {\n",
              "        text-align: right;\n",
              "    }\n",
              "</style>\n",
              "<table border=\"1\" class=\"dataframe\">\n",
              "  <thead>\n",
              "    <tr style=\"text-align: right;\">\n",
              "      <th></th>\n",
              "      <th>1950</th>\n",
              "      <th>1955</th>\n",
              "      <th>1960</th>\n",
              "      <th>1965</th>\n",
              "      <th>1970</th>\n",
              "      <th>1975</th>\n",
              "      <th>1980</th>\n",
              "      <th>1985</th>\n",
              "      <th>1990</th>\n",
              "      <th>1995</th>\n",
              "      <th>...</th>\n",
              "      <th>2012</th>\n",
              "      <th>2013</th>\n",
              "      <th>2014</th>\n",
              "      <th>2015</th>\n",
              "      <th>2016</th>\n",
              "      <th>2017</th>\n",
              "      <th>2018</th>\n",
              "      <th>2019</th>\n",
              "      <th>Unnamed: 32</th>\n",
              "      <th>Total</th>\n",
              "    </tr>\n",
              "    <tr>\n",
              "      <th>Country</th>\n",
              "      <th></th>\n",
              "      <th></th>\n",
              "      <th></th>\n",
              "      <th></th>\n",
              "      <th></th>\n",
              "      <th></th>\n",
              "      <th></th>\n",
              "      <th></th>\n",
              "      <th></th>\n",
              "      <th></th>\n",
              "      <th></th>\n",
              "      <th></th>\n",
              "      <th></th>\n",
              "      <th></th>\n",
              "      <th></th>\n",
              "      <th></th>\n",
              "      <th></th>\n",
              "      <th></th>\n",
              "      <th></th>\n",
              "      <th></th>\n",
              "      <th></th>\n",
              "    </tr>\n",
              "  </thead>\n",
              "  <tbody>\n",
              "    <tr>\n",
              "      <th>China</th>\n",
              "      <td>0</td>\n",
              "      <td>0</td>\n",
              "      <td>22,574</td>\n",
              "      <td>54,87</td>\n",
              "      <td>87,166</td>\n",
              "      <td>154,727</td>\n",
              "      <td>222,288</td>\n",
              "      <td>365,765</td>\n",
              "      <td>509,242</td>\n",
              "      <td>1,434,772</td>\n",
              "      <td>...</td>\n",
              "      <td>19,271,808</td>\n",
              "      <td>22,116,825</td>\n",
              "      <td>23,722,890</td>\n",
              "      <td>24,503,326</td>\n",
              "      <td>28,118,794</td>\n",
              "      <td>29,015,434</td>\n",
              "      <td>27,809,196</td>\n",
              "      <td>25,720,665</td>\n",
              "      <td>NaN</td>\n",
              "      <td>0.0</td>\n",
              "    </tr>\n",
              "    <tr>\n",
              "      <th>USA</th>\n",
              "      <td>8,005,859</td>\n",
              "      <td>7,955,489</td>\n",
              "      <td>7,905,119</td>\n",
              "      <td>8,094,534</td>\n",
              "      <td>8,283,949</td>\n",
              "      <td>8,146,895</td>\n",
              "      <td>8,009,841</td>\n",
              "      <td>8,896,419</td>\n",
              "      <td>9,782,997</td>\n",
              "      <td>11,985,457</td>\n",
              "      <td>...</td>\n",
              "      <td>10,335,765</td>\n",
              "      <td>11,066,432</td>\n",
              "      <td>11,660,699</td>\n",
              "      <td>12,100,095</td>\n",
              "      <td>12,198,137</td>\n",
              "      <td>11,189,985</td>\n",
              "      <td>11,314,705</td>\n",
              "      <td>10,880,019</td>\n",
              "      <td>NaN</td>\n",
              "      <td>0.0</td>\n",
              "    </tr>\n",
              "    <tr>\n",
              "      <th>Japan</th>\n",
              "      <td>31,597</td>\n",
              "      <td>256,574</td>\n",
              "      <td>481,551</td>\n",
              "      <td>2,885,354</td>\n",
              "      <td>5,289,157</td>\n",
              "      <td>8,166,021</td>\n",
              "      <td>11,042,884</td>\n",
              "      <td>12,264,840</td>\n",
              "      <td>13,486,796</td>\n",
              "      <td>10,195,536</td>\n",
              "      <td>...</td>\n",
              "      <td>9,943,077</td>\n",
              "      <td>9,630,181</td>\n",
              "      <td>9,774,558</td>\n",
              "      <td>9,278,321</td>\n",
              "      <td>9,204,590</td>\n",
              "      <td>9,693,746</td>\n",
              "      <td>9,728,528</td>\n",
              "      <td>9,684,298</td>\n",
              "      <td>NaN</td>\n",
              "      <td>0.0</td>\n",
              "    </tr>\n",
              "    <tr>\n",
              "      <th>India</th>\n",
              "      <td>14,688</td>\n",
              "      <td>32,912</td>\n",
              "      <td>51,136</td>\n",
              "      <td>63,773</td>\n",
              "      <td>76,409</td>\n",
              "      <td>95,163</td>\n",
              "      <td>113,917</td>\n",
              "      <td>238,286</td>\n",
              "      <td>362,655</td>\n",
              "      <td>636</td>\n",
              "      <td>...</td>\n",
              "      <td>4,174,713</td>\n",
              "      <td>3,898,425</td>\n",
              "      <td>3,840,160</td>\n",
              "      <td>4,160,585</td>\n",
              "      <td>4,519,341</td>\n",
              "      <td>4,782,896</td>\n",
              "      <td>5,174,645</td>\n",
              "      <td>4,516,017</td>\n",
              "      <td>NaN</td>\n",
              "      <td>0.0</td>\n",
              "    </tr>\n",
              "  </tbody>\n",
              "</table>\n",
              "<p>4 rows × 33 columns</p>\n",
              "</div>\n",
              "      <button class=\"colab-df-convert\" onclick=\"convertToInteractive('df-5eab0d9f-19c8-46dc-91f8-ab9e9e9ac947')\"\n",
              "              title=\"Convert this dataframe to an interactive table.\"\n",
              "              style=\"display:none;\">\n",
              "        \n",
              "  <svg xmlns=\"http://www.w3.org/2000/svg\" height=\"24px\"viewBox=\"0 0 24 24\"\n",
              "       width=\"24px\">\n",
              "    <path d=\"M0 0h24v24H0V0z\" fill=\"none\"/>\n",
              "    <path d=\"M18.56 5.44l.94 2.06.94-2.06 2.06-.94-2.06-.94-.94-2.06-.94 2.06-2.06.94zm-11 1L8.5 8.5l.94-2.06 2.06-.94-2.06-.94L8.5 2.5l-.94 2.06-2.06.94zm10 10l.94 2.06.94-2.06 2.06-.94-2.06-.94-.94-2.06-.94 2.06-2.06.94z\"/><path d=\"M17.41 7.96l-1.37-1.37c-.4-.4-.92-.59-1.43-.59-.52 0-1.04.2-1.43.59L10.3 9.45l-7.72 7.72c-.78.78-.78 2.05 0 2.83L4 21.41c.39.39.9.59 1.41.59.51 0 1.02-.2 1.41-.59l7.78-7.78 2.81-2.81c.8-.78.8-2.07 0-2.86zM5.41 20L4 18.59l7.72-7.72 1.47 1.35L5.41 20z\"/>\n",
              "  </svg>\n",
              "      </button>\n",
              "      \n",
              "  <style>\n",
              "    .colab-df-container {\n",
              "      display:flex;\n",
              "      flex-wrap:wrap;\n",
              "      gap: 12px;\n",
              "    }\n",
              "\n",
              "    .colab-df-convert {\n",
              "      background-color: #E8F0FE;\n",
              "      border: none;\n",
              "      border-radius: 50%;\n",
              "      cursor: pointer;\n",
              "      display: none;\n",
              "      fill: #1967D2;\n",
              "      height: 32px;\n",
              "      padding: 0 0 0 0;\n",
              "      width: 32px;\n",
              "    }\n",
              "\n",
              "    .colab-df-convert:hover {\n",
              "      background-color: #E2EBFA;\n",
              "      box-shadow: 0px 1px 2px rgba(60, 64, 67, 0.3), 0px 1px 3px 1px rgba(60, 64, 67, 0.15);\n",
              "      fill: #174EA6;\n",
              "    }\n",
              "\n",
              "    [theme=dark] .colab-df-convert {\n",
              "      background-color: #3B4455;\n",
              "      fill: #D2E3FC;\n",
              "    }\n",
              "\n",
              "    [theme=dark] .colab-df-convert:hover {\n",
              "      background-color: #434B5C;\n",
              "      box-shadow: 0px 1px 3px 1px rgba(0, 0, 0, 0.15);\n",
              "      filter: drop-shadow(0px 1px 2px rgba(0, 0, 0, 0.3));\n",
              "      fill: #FFFFFF;\n",
              "    }\n",
              "  </style>\n",
              "\n",
              "      <script>\n",
              "        const buttonEl =\n",
              "          document.querySelector('#df-5eab0d9f-19c8-46dc-91f8-ab9e9e9ac947 button.colab-df-convert');\n",
              "        buttonEl.style.display =\n",
              "          google.colab.kernel.accessAllowed ? 'block' : 'none';\n",
              "\n",
              "        async function convertToInteractive(key) {\n",
              "          const element = document.querySelector('#df-5eab0d9f-19c8-46dc-91f8-ab9e9e9ac947');\n",
              "          const dataTable =\n",
              "            await google.colab.kernel.invokeFunction('convertToInteractive',\n",
              "                                                     [key], {});\n",
              "          if (!dataTable) return;\n",
              "\n",
              "          const docLinkHtml = 'Like what you see? Visit the ' +\n",
              "            '<a target=\"_blank\" href=https://colab.research.google.com/notebooks/data_table.ipynb>data table notebook</a>'\n",
              "            + ' to learn more about interactive tables.';\n",
              "          element.innerHTML = '';\n",
              "          dataTable['output_type'] = 'display_data';\n",
              "          await google.colab.output.renderOutput(dataTable, element);\n",
              "          const docLink = document.createElement('div');\n",
              "          docLink.innerHTML = docLinkHtml;\n",
              "          element.appendChild(docLink);\n",
              "        }\n",
              "      </script>\n",
              "    </div>\n",
              "  </div>\n",
              "  "
            ]
          },
          "metadata": {},
          "execution_count": 83
        }
      ]
    },
    {
      "cell_type": "code",
      "source": [
        "USACountry = sample.loc['USA', years]"
      ],
      "metadata": {
        "id": "E_5-8UdMrxgw",
        "colab": {
          "base_uri": "https://localhost:8080/",
          "height": 328
        },
        "outputId": "60daa361-d941-4623-eede-c3a9d86e6083"
      },
      "execution_count": null,
      "outputs": [
        {
          "output_type": "error",
          "ename": "KeyError",
          "evalue": "ignored",
          "traceback": [
            "\u001b[0;31m---------------------------------------------------------------------------\u001b[0m",
            "\u001b[0;31mKeyError\u001b[0m                                  Traceback (most recent call last)",
            "\u001b[0;32m<ipython-input-84-d11e192a7c48>\u001b[0m in \u001b[0;36m<module>\u001b[0;34m()\u001b[0m\n\u001b[0;32m----> 1\u001b[0;31m \u001b[0mUSACountry\u001b[0m \u001b[0;34m=\u001b[0m \u001b[0msample\u001b[0m\u001b[0;34m.\u001b[0m\u001b[0mloc\u001b[0m\u001b[0;34m[\u001b[0m\u001b[0;34m'USA'\u001b[0m\u001b[0;34m,\u001b[0m \u001b[0myears\u001b[0m\u001b[0;34m]\u001b[0m\u001b[0;34m\u001b[0m\u001b[0;34m\u001b[0m\u001b[0m\n\u001b[0m",
            "\u001b[0;32m/usr/local/lib/python3.7/dist-packages/pandas/core/indexing.py\u001b[0m in \u001b[0;36m__getitem__\u001b[0;34m(self, key)\u001b[0m\n\u001b[1;32m    923\u001b[0m                 \u001b[0;32mwith\u001b[0m \u001b[0msuppress\u001b[0m\u001b[0;34m(\u001b[0m\u001b[0mKeyError\u001b[0m\u001b[0;34m,\u001b[0m \u001b[0mIndexError\u001b[0m\u001b[0;34m)\u001b[0m\u001b[0;34m:\u001b[0m\u001b[0;34m\u001b[0m\u001b[0;34m\u001b[0m\u001b[0m\n\u001b[1;32m    924\u001b[0m                     \u001b[0;32mreturn\u001b[0m \u001b[0mself\u001b[0m\u001b[0;34m.\u001b[0m\u001b[0mobj\u001b[0m\u001b[0;34m.\u001b[0m\u001b[0m_get_value\u001b[0m\u001b[0;34m(\u001b[0m\u001b[0;34m*\u001b[0m\u001b[0mkey\u001b[0m\u001b[0;34m,\u001b[0m \u001b[0mtakeable\u001b[0m\u001b[0;34m=\u001b[0m\u001b[0mself\u001b[0m\u001b[0;34m.\u001b[0m\u001b[0m_takeable\u001b[0m\u001b[0;34m)\u001b[0m\u001b[0;34m\u001b[0m\u001b[0;34m\u001b[0m\u001b[0m\n\u001b[0;32m--> 925\u001b[0;31m             \u001b[0;32mreturn\u001b[0m \u001b[0mself\u001b[0m\u001b[0;34m.\u001b[0m\u001b[0m_getitem_tuple\u001b[0m\u001b[0;34m(\u001b[0m\u001b[0mkey\u001b[0m\u001b[0;34m)\u001b[0m\u001b[0;34m\u001b[0m\u001b[0;34m\u001b[0m\u001b[0m\n\u001b[0m\u001b[1;32m    926\u001b[0m         \u001b[0;32melse\u001b[0m\u001b[0;34m:\u001b[0m\u001b[0;34m\u001b[0m\u001b[0;34m\u001b[0m\u001b[0m\n\u001b[1;32m    927\u001b[0m             \u001b[0;31m# we by definition only have the 0th axis\u001b[0m\u001b[0;34m\u001b[0m\u001b[0;34m\u001b[0m\u001b[0;34m\u001b[0m\u001b[0m\n",
            "\u001b[0;32m/usr/local/lib/python3.7/dist-packages/pandas/core/indexing.py\u001b[0m in \u001b[0;36m_getitem_tuple\u001b[0;34m(self, tup)\u001b[0m\n\u001b[1;32m   1098\u001b[0m     \u001b[0;32mdef\u001b[0m \u001b[0m_getitem_tuple\u001b[0m\u001b[0;34m(\u001b[0m\u001b[0mself\u001b[0m\u001b[0;34m,\u001b[0m \u001b[0mtup\u001b[0m\u001b[0;34m:\u001b[0m \u001b[0mtuple\u001b[0m\u001b[0;34m)\u001b[0m\u001b[0;34m:\u001b[0m\u001b[0;34m\u001b[0m\u001b[0;34m\u001b[0m\u001b[0m\n\u001b[1;32m   1099\u001b[0m         \u001b[0;32mwith\u001b[0m \u001b[0msuppress\u001b[0m\u001b[0;34m(\u001b[0m\u001b[0mIndexingError\u001b[0m\u001b[0;34m)\u001b[0m\u001b[0;34m:\u001b[0m\u001b[0;34m\u001b[0m\u001b[0;34m\u001b[0m\u001b[0m\n\u001b[0;32m-> 1100\u001b[0;31m             \u001b[0;32mreturn\u001b[0m \u001b[0mself\u001b[0m\u001b[0;34m.\u001b[0m\u001b[0m_getitem_lowerdim\u001b[0m\u001b[0;34m(\u001b[0m\u001b[0mtup\u001b[0m\u001b[0;34m)\u001b[0m\u001b[0;34m\u001b[0m\u001b[0;34m\u001b[0m\u001b[0m\n\u001b[0m\u001b[1;32m   1101\u001b[0m \u001b[0;34m\u001b[0m\u001b[0m\n\u001b[1;32m   1102\u001b[0m         \u001b[0;31m# no multi-index, so validate all of the indexers\u001b[0m\u001b[0;34m\u001b[0m\u001b[0;34m\u001b[0m\u001b[0;34m\u001b[0m\u001b[0m\n",
            "\u001b[0;32m/usr/local/lib/python3.7/dist-packages/pandas/core/indexing.py\u001b[0m in \u001b[0;36m_getitem_lowerdim\u001b[0;34m(self, tup)\u001b[0m\n\u001b[1;32m    860\u001b[0m                     \u001b[0;32mreturn\u001b[0m \u001b[0msection\u001b[0m\u001b[0;34m\u001b[0m\u001b[0;34m\u001b[0m\u001b[0m\n\u001b[1;32m    861\u001b[0m                 \u001b[0;31m# This is an elided recursive call to iloc/loc\u001b[0m\u001b[0;34m\u001b[0m\u001b[0;34m\u001b[0m\u001b[0;34m\u001b[0m\u001b[0m\n\u001b[0;32m--> 862\u001b[0;31m                 \u001b[0;32mreturn\u001b[0m \u001b[0mgetattr\u001b[0m\u001b[0;34m(\u001b[0m\u001b[0msection\u001b[0m\u001b[0;34m,\u001b[0m \u001b[0mself\u001b[0m\u001b[0;34m.\u001b[0m\u001b[0mname\u001b[0m\u001b[0;34m)\u001b[0m\u001b[0;34m[\u001b[0m\u001b[0mnew_key\u001b[0m\u001b[0;34m]\u001b[0m\u001b[0;34m\u001b[0m\u001b[0;34m\u001b[0m\u001b[0m\n\u001b[0m\u001b[1;32m    863\u001b[0m \u001b[0;34m\u001b[0m\u001b[0m\n\u001b[1;32m    864\u001b[0m         \u001b[0;32mraise\u001b[0m \u001b[0mIndexingError\u001b[0m\u001b[0;34m(\u001b[0m\u001b[0;34m\"not applicable\"\u001b[0m\u001b[0;34m)\u001b[0m\u001b[0;34m\u001b[0m\u001b[0;34m\u001b[0m\u001b[0m\n",
            "\u001b[0;32m/usr/local/lib/python3.7/dist-packages/pandas/core/indexing.py\u001b[0m in \u001b[0;36m__getitem__\u001b[0;34m(self, key)\u001b[0m\n\u001b[1;32m    929\u001b[0m \u001b[0;34m\u001b[0m\u001b[0m\n\u001b[1;32m    930\u001b[0m             \u001b[0mmaybe_callable\u001b[0m \u001b[0;34m=\u001b[0m \u001b[0mcom\u001b[0m\u001b[0;34m.\u001b[0m\u001b[0mapply_if_callable\u001b[0m\u001b[0;34m(\u001b[0m\u001b[0mkey\u001b[0m\u001b[0;34m,\u001b[0m \u001b[0mself\u001b[0m\u001b[0;34m.\u001b[0m\u001b[0mobj\u001b[0m\u001b[0;34m)\u001b[0m\u001b[0;34m\u001b[0m\u001b[0;34m\u001b[0m\u001b[0m\n\u001b[0;32m--> 931\u001b[0;31m             \u001b[0;32mreturn\u001b[0m \u001b[0mself\u001b[0m\u001b[0;34m.\u001b[0m\u001b[0m_getitem_axis\u001b[0m\u001b[0;34m(\u001b[0m\u001b[0mmaybe_callable\u001b[0m\u001b[0;34m,\u001b[0m \u001b[0maxis\u001b[0m\u001b[0;34m=\u001b[0m\u001b[0maxis\u001b[0m\u001b[0;34m)\u001b[0m\u001b[0;34m\u001b[0m\u001b[0;34m\u001b[0m\u001b[0m\n\u001b[0m\u001b[1;32m    932\u001b[0m \u001b[0;34m\u001b[0m\u001b[0m\n\u001b[1;32m    933\u001b[0m     \u001b[0;32mdef\u001b[0m \u001b[0m_is_scalar_access\u001b[0m\u001b[0;34m(\u001b[0m\u001b[0mself\u001b[0m\u001b[0;34m,\u001b[0m \u001b[0mkey\u001b[0m\u001b[0;34m:\u001b[0m \u001b[0mtuple\u001b[0m\u001b[0;34m)\u001b[0m\u001b[0;34m:\u001b[0m\u001b[0;34m\u001b[0m\u001b[0;34m\u001b[0m\u001b[0m\n",
            "\u001b[0;32m/usr/local/lib/python3.7/dist-packages/pandas/core/indexing.py\u001b[0m in \u001b[0;36m_getitem_axis\u001b[0;34m(self, key, axis)\u001b[0m\n\u001b[1;32m   1151\u001b[0m                     \u001b[0;32mraise\u001b[0m \u001b[0mValueError\u001b[0m\u001b[0;34m(\u001b[0m\u001b[0;34m\"Cannot index with multidimensional key\"\u001b[0m\u001b[0;34m)\u001b[0m\u001b[0;34m\u001b[0m\u001b[0;34m\u001b[0m\u001b[0m\n\u001b[1;32m   1152\u001b[0m \u001b[0;34m\u001b[0m\u001b[0m\n\u001b[0;32m-> 1153\u001b[0;31m                 \u001b[0;32mreturn\u001b[0m \u001b[0mself\u001b[0m\u001b[0;34m.\u001b[0m\u001b[0m_getitem_iterable\u001b[0m\u001b[0;34m(\u001b[0m\u001b[0mkey\u001b[0m\u001b[0;34m,\u001b[0m \u001b[0maxis\u001b[0m\u001b[0;34m=\u001b[0m\u001b[0maxis\u001b[0m\u001b[0;34m)\u001b[0m\u001b[0;34m\u001b[0m\u001b[0;34m\u001b[0m\u001b[0m\n\u001b[0m\u001b[1;32m   1154\u001b[0m \u001b[0;34m\u001b[0m\u001b[0m\n\u001b[1;32m   1155\u001b[0m             \u001b[0;31m# nested tuple slicing\u001b[0m\u001b[0;34m\u001b[0m\u001b[0;34m\u001b[0m\u001b[0;34m\u001b[0m\u001b[0m\n",
            "\u001b[0;32m/usr/local/lib/python3.7/dist-packages/pandas/core/indexing.py\u001b[0m in \u001b[0;36m_getitem_iterable\u001b[0;34m(self, key, axis)\u001b[0m\n\u001b[1;32m   1091\u001b[0m \u001b[0;34m\u001b[0m\u001b[0m\n\u001b[1;32m   1092\u001b[0m         \u001b[0;31m# A collection of keys\u001b[0m\u001b[0;34m\u001b[0m\u001b[0;34m\u001b[0m\u001b[0;34m\u001b[0m\u001b[0m\n\u001b[0;32m-> 1093\u001b[0;31m         \u001b[0mkeyarr\u001b[0m\u001b[0;34m,\u001b[0m \u001b[0mindexer\u001b[0m \u001b[0;34m=\u001b[0m \u001b[0mself\u001b[0m\u001b[0;34m.\u001b[0m\u001b[0m_get_listlike_indexer\u001b[0m\u001b[0;34m(\u001b[0m\u001b[0mkey\u001b[0m\u001b[0;34m,\u001b[0m \u001b[0maxis\u001b[0m\u001b[0;34m)\u001b[0m\u001b[0;34m\u001b[0m\u001b[0;34m\u001b[0m\u001b[0m\n\u001b[0m\u001b[1;32m   1094\u001b[0m         return self.obj._reindex_with_indexers(\n\u001b[1;32m   1095\u001b[0m             \u001b[0;34m{\u001b[0m\u001b[0maxis\u001b[0m\u001b[0;34m:\u001b[0m \u001b[0;34m[\u001b[0m\u001b[0mkeyarr\u001b[0m\u001b[0;34m,\u001b[0m \u001b[0mindexer\u001b[0m\u001b[0;34m]\u001b[0m\u001b[0;34m}\u001b[0m\u001b[0;34m,\u001b[0m \u001b[0mcopy\u001b[0m\u001b[0;34m=\u001b[0m\u001b[0;32mTrue\u001b[0m\u001b[0;34m,\u001b[0m \u001b[0mallow_dups\u001b[0m\u001b[0;34m=\u001b[0m\u001b[0;32mTrue\u001b[0m\u001b[0;34m\u001b[0m\u001b[0;34m\u001b[0m\u001b[0m\n",
            "\u001b[0;32m/usr/local/lib/python3.7/dist-packages/pandas/core/indexing.py\u001b[0m in \u001b[0;36m_get_listlike_indexer\u001b[0;34m(self, key, axis)\u001b[0m\n\u001b[1;32m   1312\u001b[0m             \u001b[0mkeyarr\u001b[0m\u001b[0;34m,\u001b[0m \u001b[0mindexer\u001b[0m\u001b[0;34m,\u001b[0m \u001b[0mnew_indexer\u001b[0m \u001b[0;34m=\u001b[0m \u001b[0max\u001b[0m\u001b[0;34m.\u001b[0m\u001b[0m_reindex_non_unique\u001b[0m\u001b[0;34m(\u001b[0m\u001b[0mkeyarr\u001b[0m\u001b[0;34m)\u001b[0m\u001b[0;34m\u001b[0m\u001b[0;34m\u001b[0m\u001b[0m\n\u001b[1;32m   1313\u001b[0m \u001b[0;34m\u001b[0m\u001b[0m\n\u001b[0;32m-> 1314\u001b[0;31m         \u001b[0mself\u001b[0m\u001b[0;34m.\u001b[0m\u001b[0m_validate_read_indexer\u001b[0m\u001b[0;34m(\u001b[0m\u001b[0mkeyarr\u001b[0m\u001b[0;34m,\u001b[0m \u001b[0mindexer\u001b[0m\u001b[0;34m,\u001b[0m \u001b[0maxis\u001b[0m\u001b[0;34m)\u001b[0m\u001b[0;34m\u001b[0m\u001b[0;34m\u001b[0m\u001b[0m\n\u001b[0m\u001b[1;32m   1315\u001b[0m \u001b[0;34m\u001b[0m\u001b[0m\n\u001b[1;32m   1316\u001b[0m         if needs_i8_conversion(ax.dtype) or isinstance(\n",
            "\u001b[0;32m/usr/local/lib/python3.7/dist-packages/pandas/core/indexing.py\u001b[0m in \u001b[0;36m_validate_read_indexer\u001b[0;34m(self, key, indexer, axis)\u001b[0m\n\u001b[1;32m   1372\u001b[0m                 \u001b[0;32mif\u001b[0m \u001b[0muse_interval_msg\u001b[0m\u001b[0;34m:\u001b[0m\u001b[0;34m\u001b[0m\u001b[0;34m\u001b[0m\u001b[0m\n\u001b[1;32m   1373\u001b[0m                     \u001b[0mkey\u001b[0m \u001b[0;34m=\u001b[0m \u001b[0mlist\u001b[0m\u001b[0;34m(\u001b[0m\u001b[0mkey\u001b[0m\u001b[0;34m)\u001b[0m\u001b[0;34m\u001b[0m\u001b[0;34m\u001b[0m\u001b[0m\n\u001b[0;32m-> 1374\u001b[0;31m                 \u001b[0;32mraise\u001b[0m \u001b[0mKeyError\u001b[0m\u001b[0;34m(\u001b[0m\u001b[0;34mf\"None of [{key}] are in the [{axis_name}]\"\u001b[0m\u001b[0;34m)\u001b[0m\u001b[0;34m\u001b[0m\u001b[0;34m\u001b[0m\u001b[0m\n\u001b[0m\u001b[1;32m   1375\u001b[0m \u001b[0;34m\u001b[0m\u001b[0m\n\u001b[1;32m   1376\u001b[0m             \u001b[0mnot_found\u001b[0m \u001b[0;34m=\u001b[0m \u001b[0mlist\u001b[0m\u001b[0;34m(\u001b[0m\u001b[0mensure_index\u001b[0m\u001b[0;34m(\u001b[0m\u001b[0mkey\u001b[0m\u001b[0;34m)\u001b[0m\u001b[0;34m[\u001b[0m\u001b[0mmissing_mask\u001b[0m\u001b[0;34m.\u001b[0m\u001b[0mnonzero\u001b[0m\u001b[0;34m(\u001b[0m\u001b[0;34m)\u001b[0m\u001b[0;34m[\u001b[0m\u001b[0;36m0\u001b[0m\u001b[0;34m]\u001b[0m\u001b[0;34m]\u001b[0m\u001b[0;34m.\u001b[0m\u001b[0munique\u001b[0m\u001b[0;34m(\u001b[0m\u001b[0;34m)\u001b[0m\u001b[0;34m)\u001b[0m\u001b[0;34m\u001b[0m\u001b[0;34m\u001b[0m\u001b[0m\n",
            "\u001b[0;31mKeyError\u001b[0m: \"None of [Int64Index([1950, 1955, 1960, 1965, 1970, 1975, 1980, 1985, 1990, 1995, 1999,\\n            2000, 2001, 2002, 2003, 2004, 2005, 2006, 2007, 2008, 2009, 2010,\\n            2011, 2012, 2013, 2014, 2015, 2016, 2017, 2018, 2019],\\n           dtype='int64')] are in the [index]\""
          ]
        }
      ]
    },
    {
      "cell_type": "code",
      "source": [
        "display(sample.dtypes)"
      ],
      "metadata": {
        "id": "x28lI3-XzemK"
      },
      "execution_count": null,
      "outputs": []
    },
    {
      "cell_type": "markdown",
      "source": [
        "Konversi dtype object to int64"
      ],
      "metadata": {
        "id": "nZMO9Upo4HDY"
      }
    },
    {
      "cell_type": "code",
      "source": [
        "sample"
      ],
      "metadata": {
        "id": "bM45VF2F4PgO"
      },
      "execution_count": null,
      "outputs": []
    },
    {
      "cell_type": "code",
      "source": [
        "USACountry.plot()"
      ],
      "metadata": {
        "id": "iicNLSK61nS_"
      },
      "execution_count": null,
      "outputs": []
    }
  ]
}